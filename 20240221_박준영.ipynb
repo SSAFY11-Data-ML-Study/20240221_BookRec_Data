{
 "cells": [
  {
   "cell_type": "code",
   "execution_count": 78,
   "id": "a44b4bda-b568-4af8-a7fc-f1e502fe743f",
   "metadata": {},
   "outputs": [],
   "source": [
    "import numpy as np\n",
    "import pandas as pd\n",
    "import matplotlib.pyplot as plt\n",
    "import seaborn as sns"
   ]
  },
  {
   "cell_type": "code",
   "execution_count": 79,
   "id": "ee80fc3b-6f1d-464f-a831-95622f5b4b3e",
   "metadata": {},
   "outputs": [],
   "source": [
    "data_test = pd.read_csv('./content/sample_data/test.csv')"
   ]
  },
  {
   "cell_type": "code",
   "execution_count": 80,
   "id": "ae0ee000-2c79-4672-bada-b45643a3640c",
   "metadata": {},
   "outputs": [],
   "source": [
    "data_train = pd.read_csv('/content/sample_data/train.csv')"
   ]
  },
  {
   "cell_type": "code",
   "execution_count": 81,
   "id": "38a620ac-4427-4b2f-aad2-c56fa9e2a81d",
   "metadata": {},
   "outputs": [],
   "source": [
    "sample = pd.read_csv('./content/sample_data/sample_submission.csv')"
   ]
  },
  {
   "cell_type": "code",
   "execution_count": 82,
   "id": "d9470e88-8253-4d07-ad2e-e1a424ea9017",
   "metadata": {
    "scrolled": true
   },
   "outputs": [
    {
     "data": {
      "text/html": [
       "<div>\n",
       "<style scoped>\n",
       "    .dataframe tbody tr th:only-of-type {\n",
       "        vertical-align: middle;\n",
       "    }\n",
       "\n",
       "    .dataframe tbody tr th {\n",
       "        vertical-align: top;\n",
       "    }\n",
       "\n",
       "    .dataframe thead th {\n",
       "        text-align: right;\n",
       "    }\n",
       "</style>\n",
       "<table border=\"1\" class=\"dataframe\">\n",
       "  <thead>\n",
       "    <tr style=\"text-align: right;\">\n",
       "      <th></th>\n",
       "      <th>ID</th>\n",
       "      <th>User-ID</th>\n",
       "      <th>Book-ID</th>\n",
       "      <th>Age</th>\n",
       "      <th>Location</th>\n",
       "      <th>Book-Title</th>\n",
       "      <th>Book-Author</th>\n",
       "      <th>Year-Of-Publication</th>\n",
       "      <th>Publisher</th>\n",
       "    </tr>\n",
       "  </thead>\n",
       "  <tbody>\n",
       "    <tr>\n",
       "      <th>0</th>\n",
       "      <td>TEST_000000</td>\n",
       "      <td>USER_00008</td>\n",
       "      <td>BOOK_047966</td>\n",
       "      <td>37.0</td>\n",
       "      <td>vermilion, ohio, usa</td>\n",
       "      <td>Birds of Prey: A Novel of Suspense</td>\n",
       "      <td>J.A. Jance</td>\n",
       "      <td>2002.0</td>\n",
       "      <td>Avon</td>\n",
       "    </tr>\n",
       "    <tr>\n",
       "      <th>1</th>\n",
       "      <td>TEST_000001</td>\n",
       "      <td>USER_00008</td>\n",
       "      <td>BOOK_119494</td>\n",
       "      <td>37.0</td>\n",
       "      <td>vermilion, ohio, usa</td>\n",
       "      <td>Midnight Voices</td>\n",
       "      <td>JOHN SAUL</td>\n",
       "      <td>2003.0</td>\n",
       "      <td>Ballantine Books</td>\n",
       "    </tr>\n",
       "    <tr>\n",
       "      <th>2</th>\n",
       "      <td>TEST_000002</td>\n",
       "      <td>USER_00008</td>\n",
       "      <td>BOOK_151775</td>\n",
       "      <td>37.0</td>\n",
       "      <td>vermilion, ohio, usa</td>\n",
       "      <td>Breaking Free : A Prescription for Personal an...</td>\n",
       "      <td>David M.  Noer</td>\n",
       "      <td>1996.0</td>\n",
       "      <td>Jossey-Bass</td>\n",
       "    </tr>\n",
       "    <tr>\n",
       "      <th>3</th>\n",
       "      <td>TEST_000003</td>\n",
       "      <td>USER_00008</td>\n",
       "      <td>BOOK_176255</td>\n",
       "      <td>37.0</td>\n",
       "      <td>vermilion, ohio, usa</td>\n",
       "      <td>Bitter Harvest</td>\n",
       "      <td>Ann Rule</td>\n",
       "      <td>1999.0</td>\n",
       "      <td>Pocket</td>\n",
       "    </tr>\n",
       "    <tr>\n",
       "      <th>4</th>\n",
       "      <td>TEST_000004</td>\n",
       "      <td>USER_00008</td>\n",
       "      <td>BOOK_187307</td>\n",
       "      <td>37.0</td>\n",
       "      <td>vermilion, ohio, usa</td>\n",
       "      <td>Embraced by the Light</td>\n",
       "      <td>Betty J. Eadie</td>\n",
       "      <td>1994.0</td>\n",
       "      <td>Bantam Books</td>\n",
       "    </tr>\n",
       "    <tr>\n",
       "      <th>...</th>\n",
       "      <td>...</td>\n",
       "      <td>...</td>\n",
       "      <td>...</td>\n",
       "      <td>...</td>\n",
       "      <td>...</td>\n",
       "      <td>...</td>\n",
       "      <td>...</td>\n",
       "      <td>...</td>\n",
       "      <td>...</td>\n",
       "    </tr>\n",
       "    <tr>\n",
       "      <th>159616</th>\n",
       "      <td>TEST_159616</td>\n",
       "      <td>USER_92086</td>\n",
       "      <td>BOOK_159050</td>\n",
       "      <td>0.0</td>\n",
       "      <td>mountain view, california, usa</td>\n",
       "      <td>The Fat Flush Plan</td>\n",
       "      <td>Ann Louise Gittleman</td>\n",
       "      <td>2001.0</td>\n",
       "      <td>McGraw-Hill/Contemporary Books</td>\n",
       "    </tr>\n",
       "    <tr>\n",
       "      <th>159617</th>\n",
       "      <td>TEST_159617</td>\n",
       "      <td>USER_92086</td>\n",
       "      <td>BOOK_196481</td>\n",
       "      <td>0.0</td>\n",
       "      <td>mountain view, california, usa</td>\n",
       "      <td>We Die Alone: A WWII Epic of Escape and Endurance</td>\n",
       "      <td>David Howarth</td>\n",
       "      <td>1999.0</td>\n",
       "      <td>The Lyons Press</td>\n",
       "    </tr>\n",
       "    <tr>\n",
       "      <th>159618</th>\n",
       "      <td>TEST_159618</td>\n",
       "      <td>USER_92086</td>\n",
       "      <td>BOOK_199754</td>\n",
       "      <td>0.0</td>\n",
       "      <td>mountain view, california, usa</td>\n",
       "      <td>From 60 Yards In : How to Master Golf's Short ...</td>\n",
       "      <td>Raymond Floyd</td>\n",
       "      <td>1992.0</td>\n",
       "      <td>Perennial</td>\n",
       "    </tr>\n",
       "    <tr>\n",
       "      <th>159619</th>\n",
       "      <td>TEST_159619</td>\n",
       "      <td>USER_92086</td>\n",
       "      <td>BOOK_227481</td>\n",
       "      <td>0.0</td>\n",
       "      <td>mountain view, california, usa</td>\n",
       "      <td>Solo: On Her Own Adventure</td>\n",
       "      <td>Susan Fox Rogers</td>\n",
       "      <td>1996.0</td>\n",
       "      <td>Seal Press (WA)</td>\n",
       "    </tr>\n",
       "    <tr>\n",
       "      <th>159620</th>\n",
       "      <td>TEST_159620</td>\n",
       "      <td>USER_92086</td>\n",
       "      <td>BOOK_237054</td>\n",
       "      <td>0.0</td>\n",
       "      <td>mountain view, california, usa</td>\n",
       "      <td>Avalanche Safety: For Skiers &amp;amp; Climbers</td>\n",
       "      <td>Tony Daffern</td>\n",
       "      <td>1999.0</td>\n",
       "      <td>Mountaineers Books</td>\n",
       "    </tr>\n",
       "  </tbody>\n",
       "</table>\n",
       "<p>159621 rows × 9 columns</p>\n",
       "</div>"
      ],
      "text/plain": [
       "                 ID     User-ID      Book-ID   Age  \\\n",
       "0       TEST_000000  USER_00008  BOOK_047966  37.0   \n",
       "1       TEST_000001  USER_00008  BOOK_119494  37.0   \n",
       "2       TEST_000002  USER_00008  BOOK_151775  37.0   \n",
       "3       TEST_000003  USER_00008  BOOK_176255  37.0   \n",
       "4       TEST_000004  USER_00008  BOOK_187307  37.0   \n",
       "...             ...         ...          ...   ...   \n",
       "159616  TEST_159616  USER_92086  BOOK_159050   0.0   \n",
       "159617  TEST_159617  USER_92086  BOOK_196481   0.0   \n",
       "159618  TEST_159618  USER_92086  BOOK_199754   0.0   \n",
       "159619  TEST_159619  USER_92086  BOOK_227481   0.0   \n",
       "159620  TEST_159620  USER_92086  BOOK_237054   0.0   \n",
       "\n",
       "                              Location  \\\n",
       "0                 vermilion, ohio, usa   \n",
       "1                 vermilion, ohio, usa   \n",
       "2                 vermilion, ohio, usa   \n",
       "3                 vermilion, ohio, usa   \n",
       "4                 vermilion, ohio, usa   \n",
       "...                                ...   \n",
       "159616  mountain view, california, usa   \n",
       "159617  mountain view, california, usa   \n",
       "159618  mountain view, california, usa   \n",
       "159619  mountain view, california, usa   \n",
       "159620  mountain view, california, usa   \n",
       "\n",
       "                                               Book-Title  \\\n",
       "0                      Birds of Prey: A Novel of Suspense   \n",
       "1                                         Midnight Voices   \n",
       "2       Breaking Free : A Prescription for Personal an...   \n",
       "3                                          Bitter Harvest   \n",
       "4                                   Embraced by the Light   \n",
       "...                                                   ...   \n",
       "159616                                 The Fat Flush Plan   \n",
       "159617  We Die Alone: A WWII Epic of Escape and Endurance   \n",
       "159618  From 60 Yards In : How to Master Golf's Short ...   \n",
       "159619                         Solo: On Her Own Adventure   \n",
       "159620        Avalanche Safety: For Skiers &amp; Climbers   \n",
       "\n",
       "                 Book-Author  Year-Of-Publication  \\\n",
       "0                 J.A. Jance               2002.0   \n",
       "1                  JOHN SAUL               2003.0   \n",
       "2             David M.  Noer               1996.0   \n",
       "3                   Ann Rule               1999.0   \n",
       "4             Betty J. Eadie               1994.0   \n",
       "...                      ...                  ...   \n",
       "159616  Ann Louise Gittleman               2001.0   \n",
       "159617         David Howarth               1999.0   \n",
       "159618         Raymond Floyd               1992.0   \n",
       "159619      Susan Fox Rogers               1996.0   \n",
       "159620          Tony Daffern               1999.0   \n",
       "\n",
       "                             Publisher  \n",
       "0                                 Avon  \n",
       "1                     Ballantine Books  \n",
       "2                          Jossey-Bass  \n",
       "3                               Pocket  \n",
       "4                         Bantam Books  \n",
       "...                                ...  \n",
       "159616  McGraw-Hill/Contemporary Books  \n",
       "159617                 The Lyons Press  \n",
       "159618                       Perennial  \n",
       "159619                 Seal Press (WA)  \n",
       "159620              Mountaineers Books  \n",
       "\n",
       "[159621 rows x 9 columns]"
      ]
     },
     "execution_count": 82,
     "metadata": {},
     "output_type": "execute_result"
    }
   ],
   "source": [
    "data_test"
   ]
  },
  {
   "cell_type": "code",
   "execution_count": 83,
   "id": "bd0befcb-f4e6-40b5-9b00-e0cd3fe509e0",
   "metadata": {
    "scrolled": true
   },
   "outputs": [
    {
     "name": "stdout",
     "output_type": "stream",
     "text": [
      "<class 'pandas.core.frame.DataFrame'>\n",
      "RangeIndex: 159621 entries, 0 to 159620\n",
      "Data columns (total 9 columns):\n",
      " #   Column               Non-Null Count   Dtype  \n",
      "---  ------               --------------   -----  \n",
      " 0   ID                   159621 non-null  object \n",
      " 1   User-ID              159621 non-null  object \n",
      " 2   Book-ID              159621 non-null  object \n",
      " 3   Age                  159621 non-null  float64\n",
      " 4   Location             159621 non-null  object \n",
      " 5   Book-Title           159621 non-null  object \n",
      " 6   Book-Author          159620 non-null  object \n",
      " 7   Year-Of-Publication  159621 non-null  float64\n",
      " 8   Publisher            159621 non-null  object \n",
      "dtypes: float64(2), object(7)\n",
      "memory usage: 11.0+ MB\n"
     ]
    }
   ],
   "source": [
    "data_test.info()"
   ]
  },
  {
   "cell_type": "markdown",
   "id": "cb8401e9-5fcc-4312-8961-c6f723092120",
   "metadata": {},
   "source": [
    "## 컬럼값 분석\n",
    "\n",
    "사용자 ID, 책 ID, 나이, 거주지, 도서 제목, 도서 작가, 출판 년도, 출판사"
   ]
  },
  {
   "cell_type": "code",
   "execution_count": 84,
   "id": "c4726b1e-4366-472d-b9b2-1daaad9a7d40",
   "metadata": {},
   "outputs": [
    {
     "data": {
      "text/plain": [
       "11"
      ]
     },
     "execution_count": 84,
     "metadata": {},
     "output_type": "execute_result"
    }
   ],
   "source": [
    "# 점수는 0~10\n",
    "data_train['Book-Rating'].nunique()"
   ]
  },
  {
   "cell_type": "code",
   "execution_count": 85,
   "id": "c5967a30-5ca6-4a8b-a542-61d2fa3f9072",
   "metadata": {
    "scrolled": true
   },
   "outputs": [
    {
     "data": {
      "text/plain": [
       "Book-Rating\n",
       "0     548804\n",
       "8      76971\n",
       "10     60024\n",
       "7      55852\n",
       "9      50494\n",
       "5      38416\n",
       "6      26670\n",
       "4       6462\n",
       "3       4374\n",
       "2       2019\n",
       "1       1307\n",
       "Name: count, dtype: int64"
      ]
     },
     "execution_count": 85,
     "metadata": {},
     "output_type": "execute_result"
    }
   ],
   "source": [
    "data_train['Book-Rating'].value_counts()"
   ]
  },
  {
   "cell_type": "code",
   "execution_count": 86,
   "id": "cf98152a-164c-48a9-98a1-c419f27db8df",
   "metadata": {
    "scrolled": true
   },
   "outputs": [
    {
     "data": {
      "text/plain": [
       "count    871393.000000\n",
       "mean          2.820579\n",
       "std           3.846906\n",
       "min           0.000000\n",
       "25%           0.000000\n",
       "50%           0.000000\n",
       "75%           7.000000\n",
       "max          10.000000\n",
       "Name: Book-Rating, dtype: float64"
      ]
     },
     "execution_count": 86,
     "metadata": {},
     "output_type": "execute_result"
    }
   ],
   "source": [
    "# 분석의 타겟인 Book-rating 컬럼의 정보 확인\n",
    "data_train['Book-Rating'].describe()"
   ]
  },
  {
   "cell_type": "code",
   "execution_count": 87,
   "id": "2bd6d949-1575-40f1-afb2-5aa2ccbf1b44",
   "metadata": {
    "scrolled": true
   },
   "outputs": [
    {
     "data": {
      "image/png": "[encoded data removed]",
      "text/plain": [
       "<Figure size 640x480 with 1 Axes>"
      ]
     },
     "metadata": {},
     "output_type": "display_data"
    }
   ],
   "source": [
    "# Book-Rating 데이터\n",
    "ratings = [548804, 76971, 60024, 55852, 50494, 38416, 26670, 6462, 4374, 2019, 1307]\n",
    "\n",
    "# 박스플롯 그리기\n",
    "plt.boxplot(ratings, vert=False)\n",
    "\n",
    "# 그래프 제목과 축 레이블 추가\n",
    "plt.title('Book Ratings')\n",
    "plt.xlabel('Ratings Counts')\n",
    "\n",
    "# 그래프 표시\n",
    "plt.show()"
   ]
  },
  {
   "cell_type": "code",
   "execution_count": 88,
   "id": "a021f575-ab9b-4394-9f80-862abecf2794",
   "metadata": {},
   "outputs": [
    {
     "data": {
      "text/plain": [
       "20971"
      ]
     },
     "execution_count": 88,
     "metadata": {},
     "output_type": "execute_result"
    }
   ],
   "source": [
    "# 지역도 너무 다양함\n",
    "data_train['Location'].nunique()"
   ]
  },
  {
   "cell_type": "code",
   "execution_count": 89,
   "id": "1a3505a0-7770-4f19-b9cb-86367699073f",
   "metadata": {},
   "outputs": [],
   "source": [
    "# 국가로 자른다\n",
    "data_train['Location'] = data_train['Location'].apply(lambda x: x.split(',')[-1])"
   ]
  },
  {
   "cell_type": "code",
   "execution_count": 90,
   "id": "5cbf00af-bcfa-4138-bc25-237c03f7aadc",
   "metadata": {},
   "outputs": [
    {
     "data": {
      "text/plain": [
       "244"
      ]
     },
     "execution_count": 90,
     "metadata": {},
     "output_type": "execute_result"
    }
   ],
   "source": [
    "# 압축한 결과\n",
    "data_train['Location'].nunique()"
   ]
  },
  {
   "cell_type": "code",
   "execution_count": 91,
   "id": "f78e454a-a6ee-495a-bb96-6bd6fb622bc1",
   "metadata": {},
   "outputs": [
    {
     "data": {
      "text/plain": [
       "217829"
      ]
     },
     "execution_count": 91,
     "metadata": {},
     "output_type": "execute_result"
    }
   ],
   "source": [
    "data_train['Book-Title'].nunique()"
   ]
  },
  {
   "cell_type": "code",
   "execution_count": 92,
   "id": "24280b42-48dd-4177-9064-1f12008487c9",
   "metadata": {},
   "outputs": [
    {
     "data": {
      "text/plain": [
       "Book-Title\n",
       "Wild Animus                                                                        2502\n",
       "The Da Vinci Code                                                                   895\n",
       "The Nanny Diaries: A Novel                                                          828\n",
       "The Lovely Bones: A Novel                                                           768\n",
       "A Painted House                                                                     761\n",
       "                                                                                   ... \n",
       "Das Gesetz der Liebe. Inkl. CD.                                                       1\n",
       "E- Mail an alle.                                                                      1\n",
       "Enc/Brown/Saves/#7 (Encyclopedia Brown (Paperback))                                   1\n",
       "Sitting Pretty                                                                        1\n",
       "Creme De Colorado Cookbook (Celebrating Twenty Five Years of Culinary Artistry)       1\n",
       "Name: count, Length: 217829, dtype: int64"
      ]
     },
     "execution_count": 92,
     "metadata": {},
     "output_type": "execute_result"
    }
   ],
   "source": [
    "data_train['Book-Title'].value_counts()"
   ]
  },
  {
   "cell_type": "code",
   "execution_count": 93,
   "id": "95c2645d-f2ac-4e37-afec-6d9bb1008216",
   "metadata": {},
   "outputs": [
    {
     "data": {
      "text/html": [
       "<div>\n",
       "<style scoped>\n",
       "    .dataframe tbody tr th:only-of-type {\n",
       "        vertical-align: middle;\n",
       "    }\n",
       "\n",
       "    .dataframe tbody tr th {\n",
       "        vertical-align: top;\n",
       "    }\n",
       "\n",
       "    .dataframe thead th {\n",
       "        text-align: right;\n",
       "    }\n",
       "</style>\n",
       "<table border=\"1\" class=\"dataframe\">\n",
       "  <thead>\n",
       "    <tr style=\"text-align: right;\">\n",
       "      <th></th>\n",
       "      <th>ID</th>\n",
       "      <th>Book-Rating</th>\n",
       "    </tr>\n",
       "  </thead>\n",
       "  <tbody>\n",
       "    <tr>\n",
       "      <th>0</th>\n",
       "      <td>TEST_000000</td>\n",
       "      <td>0</td>\n",
       "    </tr>\n",
       "    <tr>\n",
       "      <th>1</th>\n",
       "      <td>TEST_000001</td>\n",
       "      <td>0</td>\n",
       "    </tr>\n",
       "    <tr>\n",
       "      <th>2</th>\n",
       "      <td>TEST_000002</td>\n",
       "      <td>0</td>\n",
       "    </tr>\n",
       "    <tr>\n",
       "      <th>3</th>\n",
       "      <td>TEST_000003</td>\n",
       "      <td>0</td>\n",
       "    </tr>\n",
       "    <tr>\n",
       "      <th>4</th>\n",
       "      <td>TEST_000004</td>\n",
       "      <td>0</td>\n",
       "    </tr>\n",
       "    <tr>\n",
       "      <th>...</th>\n",
       "      <td>...</td>\n",
       "      <td>...</td>\n",
       "    </tr>\n",
       "    <tr>\n",
       "      <th>159616</th>\n",
       "      <td>TEST_159616</td>\n",
       "      <td>0</td>\n",
       "    </tr>\n",
       "    <tr>\n",
       "      <th>159617</th>\n",
       "      <td>TEST_159617</td>\n",
       "      <td>0</td>\n",
       "    </tr>\n",
       "    <tr>\n",
       "      <th>159618</th>\n",
       "      <td>TEST_159618</td>\n",
       "      <td>0</td>\n",
       "    </tr>\n",
       "    <tr>\n",
       "      <th>159619</th>\n",
       "      <td>TEST_159619</td>\n",
       "      <td>0</td>\n",
       "    </tr>\n",
       "    <tr>\n",
       "      <th>159620</th>\n",
       "      <td>TEST_159620</td>\n",
       "      <td>0</td>\n",
       "    </tr>\n",
       "  </tbody>\n",
       "</table>\n",
       "<p>159621 rows × 2 columns</p>\n",
       "</div>"
      ],
      "text/plain": [
       "                 ID  Book-Rating\n",
       "0       TEST_000000            0\n",
       "1       TEST_000001            0\n",
       "2       TEST_000002            0\n",
       "3       TEST_000003            0\n",
       "4       TEST_000004            0\n",
       "...             ...          ...\n",
       "159616  TEST_159616            0\n",
       "159617  TEST_159617            0\n",
       "159618  TEST_159618            0\n",
       "159619  TEST_159619            0\n",
       "159620  TEST_159620            0\n",
       "\n",
       "[159621 rows x 2 columns]"
      ]
     },
     "execution_count": 93,
     "metadata": {},
     "output_type": "execute_result"
    }
   ],
   "source": [
    "# sample 행에서 ID를 통해 인지하는 것으로 확인, ID column은 남기기로 한다\n",
    "sample"
   ]
  },
  {
   "cell_type": "code",
   "execution_count": 94,
   "id": "63f4b819-0508-4d30-8caf-4bd1ab03cf06",
   "metadata": {},
   "outputs": [
    {
     "data": {
      "text/plain": [
       "ID                     0\n",
       "User-ID                0\n",
       "Book-ID                0\n",
       "Book-Rating            0\n",
       "Age                    0\n",
       "Location               0\n",
       "Book-Title             0\n",
       "Book-Author            0\n",
       "Year-Of-Publication    0\n",
       "Publisher              0\n",
       "dtype: int64"
      ]
     },
     "execution_count": 94,
     "metadata": {},
     "output_type": "execute_result"
    }
   ],
   "source": [
    "# 결측값은 점수의 0을 제외하고는 없는 것으로 가정\n",
    "data_train.isna().sum()"
   ]
  },
  {
   "cell_type": "code",
   "execution_count": 95,
   "id": "31f45766-28c4-4fe3-8b8a-5f16c506f4d2",
   "metadata": {},
   "outputs": [
    {
     "data": {
      "text/plain": [
       "217829"
      ]
     },
     "execution_count": 95,
     "metadata": {},
     "output_type": "execute_result"
    }
   ],
   "source": [
    "data_train['Book-Title'].nunique()"
   ]
  },
  {
   "cell_type": "code",
   "execution_count": 96,
   "id": "e7b54ab9-a0d8-4da8-95cf-26c5840b0cd4",
   "metadata": {},
   "outputs": [
    {
     "data": {
      "text/plain": [
       "92635"
      ]
     },
     "execution_count": 96,
     "metadata": {},
     "output_type": "execute_result"
    }
   ],
   "source": [
    "data_train['Book-Author'].nunique()"
   ]
  },
  {
   "cell_type": "code",
   "execution_count": 97,
   "id": "5aa631d7-980c-42d3-81f6-36381710bc22",
   "metadata": {},
   "outputs": [
    {
     "data": {
      "text/plain": [
       "Book-Author\n",
       "Stephen King           8467\n",
       "Nora Roberts           6934\n",
       "John Grisham           5283\n",
       "James Patterson        5020\n",
       "Mary Higgins Clark     3983\n",
       "                       ... \n",
       "Cyrinda Foxe-Tyler        1\n",
       "Matt Bloom                1\n",
       "Cassie Kendall            1\n",
       "Birney, M.D. Dibble       1\n",
       "Stephen Griffith          1\n",
       "Name: count, Length: 92635, dtype: int64"
      ]
     },
     "execution_count": 97,
     "metadata": {},
     "output_type": "execute_result"
    }
   ],
   "source": [
    "# 작가는 중요한 요소로 고려했지만, 너무 많은 수가 있다\n",
    "data_train['Book-Author'].value_counts()"
   ]
  },
  {
   "cell_type": "code",
   "execution_count": 98,
   "id": "da2f4699-d4b2-431f-b757-b52c965125bd",
   "metadata": {},
   "outputs": [
    {
     "data": {
      "text/plain": [
       "Year-Of-Publication\n",
       "2002.0    77173\n",
       "2001.0    67566\n",
       "1999.0    64175\n",
       "2000.0    61749\n",
       "2003.0    60744\n",
       "          ...  \n",
       "2008.0        1\n",
       "1909.0        1\n",
       "1904.0        1\n",
       "1378.0        1\n",
       "1910.0        1\n",
       "Name: count, Length: 110, dtype: int64"
      ]
     },
     "execution_count": 98,
     "metadata": {},
     "output_type": "execute_result"
    }
   ],
   "source": [
    "data_train['Year-Of-Publication'].value_counts()"
   ]
  },
  {
   "cell_type": "code",
   "execution_count": 99,
   "id": "a81dbf84-0aaa-4535-a7e7-7a229267c80f",
   "metadata": {},
   "outputs": [
    {
     "data": {
      "text/plain": [
       "count    871393.000000\n",
       "mean       1968.903339\n",
       "std         228.077752\n",
       "min          -1.000000\n",
       "25%        1991.000000\n",
       "50%        1997.000000\n",
       "75%        2001.000000\n",
       "max        2021.000000\n",
       "Name: Year-Of-Publication, dtype: float64"
      ]
     },
     "execution_count": 99,
     "metadata": {},
     "output_type": "execute_result"
    }
   ],
   "source": [
    "data_train['Year-Of-Publication'].describe()"
   ]
  },
  {
   "cell_type": "code",
   "execution_count": 100,
   "id": "61f151df-33ee-476e-98d1-54183e4fca1d",
   "metadata": {},
   "outputs": [
    {
     "data": {
      "text/plain": [
       "count    871393.000000\n",
       "mean         36.799861\n",
       "std          12.065509\n",
       "min           0.000000\n",
       "25%          31.000000\n",
       "50%          35.000000\n",
       "75%          41.000000\n",
       "max         244.000000\n",
       "Name: Age, dtype: float64"
      ]
     },
     "execution_count": 100,
     "metadata": {},
     "output_type": "execute_result"
    }
   ],
   "source": [
    "data_train['Age'].describe()"
   ]
  },
  {
   "cell_type": "markdown",
   "id": "c0ed3892-54d4-470f-8662-b54bfc89b51a",
   "metadata": {},
   "source": [
    "### 컬럼값 확인 결과\n",
    "\n",
    "1. 점수의 0점이 지나치게 많다. 결측값으로 추정된다.\n",
    "2. Book-Title, Book-Author, Publisher 모두 너무 다양한 종류가 존재한다.\n",
    "4. 출간 년도 에도 -1이 있다. 마찬가지로 나이도 0이 있다.\n",
    "### 방향 정하기\n",
    "\n",
    "1. 0점을 제외하기엔 데이터가 지나치게 많다. 우선 다른 문제들부터 처리해보기.\n",
    "2. Book-Author은, value_counts의 값이 낮은 작가가 많았다. 일정 횟수 이상의 작가 제거를 고려한다."
   ]
  },
  {
   "cell_type": "code",
   "execution_count": 101,
   "id": "5ce32c7f-90ac-4aeb-950b-eb86044990ab",
   "metadata": {},
   "outputs": [],
   "source": [
    "author_counts = data_train['Book-Author'].value_counts()\n",
    "# 100회 이하로 등장한 작가 필터링\n",
    "selected_authors = author_counts[author_counts > 100].index"
   ]
  },
  {
   "cell_type": "code",
   "execution_count": 102,
   "id": "9e49dd87-4a85-4c51-aed5-71557cc96916",
   "metadata": {},
   "outputs": [],
   "source": [
    "df_filtered = data_train[data_train['Book-Author'].isin(selected_authors)]"
   ]
  },
  {
   "cell_type": "code",
   "execution_count": 103,
   "id": "39559ff1-0b30-47d6-ba52-594d28d83858",
   "metadata": {},
   "outputs": [
    {
     "data": {
      "text/plain": [
       "1234"
      ]
     },
     "execution_count": 103,
     "metadata": {},
     "output_type": "execute_result"
    }
   ],
   "source": [
    "# 데이터는 비록 절반의 길이지만, 작가는 1234명으로 많이 줄었다\n",
    "df_filtered['Book-Author'].nunique()"
   ]
  },
  {
   "cell_type": "code",
   "execution_count": 104,
   "id": "e7f14eb7-9665-472e-9bf1-48cae4992bec",
   "metadata": {},
   "outputs": [],
   "source": [
    "# 사용가능한 몇 안되는 컬럼인 Age와 출판년도의 결측값을 제거한다\n",
    "df_filtered = df_filtered[(df_filtered['Age'] != 0) & (df_filtered['Year-Of-Publication'] != -1)]"
   ]
  },
  {
   "cell_type": "code",
   "execution_count": 105,
   "id": "2f1c4ce9-08df-478c-bbf9-3c3a4efe5592",
   "metadata": {
    "scrolled": true
   },
   "outputs": [
    {
     "data": {
      "text/plain": [
       "Book-Rating\n",
       "0     277052\n",
       "8      41219\n",
       "10     30622\n",
       "7      28765\n",
       "9      27679\n",
       "5      18358\n",
       "6      13215\n",
       "4       3124\n",
       "3       2085\n",
       "2        952\n",
       "1        584\n",
       "Name: count, dtype: int64"
      ]
     },
     "execution_count": 105,
     "metadata": {},
     "output_type": "execute_result"
    }
   ],
   "source": [
    "df_filtered['Book-Rating'].value_counts()"
   ]
  },
  {
   "cell_type": "code",
   "execution_count": 106,
   "id": "701e6343-6a1e-4d7d-b321-b977982ac774",
   "metadata": {},
   "outputs": [
    {
     "data": {
      "text/plain": [
       "40212"
      ]
     },
     "execution_count": 106,
     "metadata": {},
     "output_type": "execute_result"
    }
   ],
   "source": [
    "df_filtered['Book-Title'].nunique()"
   ]
  },
  {
   "cell_type": "code",
   "execution_count": 107,
   "id": "73229830-4f63-4f37-9085-d1f86f863c3f",
   "metadata": {},
   "outputs": [
    {
     "data": {
      "text/plain": [
       "2412"
      ]
     },
     "execution_count": 107,
     "metadata": {},
     "output_type": "execute_result"
    }
   ],
   "source": [
    "df_filtered['Publisher'].nunique()"
   ]
  },
  {
   "cell_type": "code",
   "execution_count": 108,
   "id": "e0da8b39-0c17-42d7-8b76-8be59a5202d1",
   "metadata": {
    "scrolled": true
   },
   "outputs": [
    {
     "data": {
      "image/png": "[encoded data removed]",
      "text/plain": [
       "<Figure size 640x480 with 1 Axes>"
      ]
     },
     "metadata": {},
     "output_type": "display_data"
    }
   ],
   "source": [
    "# Book-Rating 데이터\n",
    "ratings = [277052, 41219, 30622, 28765, 27679, 18358, 13215, 3124, 2085, 952, 584]\n",
    "\n",
    "# 박스플롯 그리기\n",
    "plt.boxplot(ratings, vert=False)\n",
    "\n",
    "# 그래프 제목과 축 레이블 추가\n",
    "plt.title('Book Ratings')\n",
    "plt.xlabel('Ratings Counts')\n",
    "\n",
    "# 그래프 표시\n",
    "plt.show()"
   ]
  },
  {
   "cell_type": "code",
   "execution_count": 109,
   "id": "98b76eba-1c98-4018-b673-287edcf121d8",
   "metadata": {},
   "outputs": [],
   "source": [
    "# Book-title도 지나치게 다양하기에 우선 배제하고 돌리기로 한다.\n",
    "df_filtered = df_filtered.drop('Book-Title', axis=1)"
   ]
  },
  {
   "cell_type": "code",
   "execution_count": 110,
   "id": "867660a3-d257-4bbc-84a7-eed3e8e217c5",
   "metadata": {},
   "outputs": [],
   "source": [
    "df_filtered.to_csv('./content/sample_data/train_jyp.csv')"
   ]
  },
  {
   "cell_type": "code",
   "execution_count": 111,
   "id": "6cf005fd-b631-46c4-af5a-aaeb3147dae7",
   "metadata": {},
   "outputs": [],
   "source": [
    "# SVD 테스트\n",
    "from surprise import SVD, Dataset, Reader, accuracy"
   ]
  },
  {
   "cell_type": "code",
   "execution_count": 112,
   "id": "b00ba8b4-709d-4181-a626-ce4b051fc7a0",
   "metadata": {},
   "outputs": [],
   "source": [
    "train = pd.read_csv('./content/sample_data/train_jyp.csv')\n",
    "test = pd.read_csv('./content/sample_data/test.csv')"
   ]
  },
  {
   "cell_type": "code",
   "execution_count": 113,
   "id": "c3d6f6bb-390b-4e60-9ad2-bb1f6857630a",
   "metadata": {},
   "outputs": [],
   "source": [
    "# Surprise 라이브러리용 Reader 및 Dataset 객체 생성\n",
    "reader = Reader(rating_scale=(0, 10))\n",
    "train = Dataset.load_from_df(train[['User-ID', 'Book-ID', 'Book-Rating']], reader)\n",
    "train = train.build_full_trainset()"
   ]
  },
  {
   "cell_type": "code",
   "execution_count": 114,
   "id": "b29d1daf-7969-4bae-a49e-37cfbb534c11",
   "metadata": {},
   "outputs": [
    {
     "data": {
      "text/plain": [
       "<surprise.prediction_algorithms.matrix_factorization.SVD at 0x26dafeb6130>"
      ]
     },
     "execution_count": 114,
     "metadata": {},
     "output_type": "execute_result"
    }
   ],
   "source": [
    "# SVD 모델 훈련\n",
    "model = SVD()\n",
    "model.fit(train)"
   ]
  },
  {
   "cell_type": "code",
   "execution_count": 115,
   "id": "1b4397a6-0de6-4b6b-bfa3-207bb5e16f9e",
   "metadata": {},
   "outputs": [],
   "source": [
    "submit = pd.read_csv('./content/sample_data/sample_submission.csv')"
   ]
  },
  {
   "cell_type": "code",
   "execution_count": 116,
   "id": "2166cd44-83e8-42c0-b0b3-7621afc4eddf",
   "metadata": {},
   "outputs": [],
   "source": [
    "submit['Book-Rating'] = test.apply(lambda row: model.predict(row['User-ID'], row['Book-ID']).est, axis=1)"
   ]
  },
  {
   "cell_type": "code",
   "execution_count": 117,
   "id": "968bb77c-747d-4223-b61f-3b1b76943894",
   "metadata": {},
   "outputs": [],
   "source": [
    "submit.to_csv('./baseline_submit.csv', index=False)"
   ]
  },
  {
   "cell_type": "code",
   "execution_count": 118,
   "id": "7f8a0ef5-abdf-443c-b8b1-066c22e1a3c6",
   "metadata": {},
   "outputs": [],
   "source": [
    "result = pd.read_csv('./content/sample_data/sample_submission.csv')"
   ]
  },
  {
   "cell_type": "code",
   "execution_count": 120,
   "id": "6c3d73a9-23e3-44c2-9660-b247b0f5f325",
   "metadata": {},
   "outputs": [
    {
     "data": {
      "text/plain": [
       "Book-Rating\n",
       "2.882323    8134\n",
       "0.000000    7140\n",
       "8.431406    1862\n",
       "0.780234    1281\n",
       "0.180083    1146\n",
       "            ... \n",
       "2.691702       1\n",
       "1.071247       1\n",
       "0.071796       1\n",
       "4.540953       1\n",
       "2.550925       1\n",
       "Name: count, Length: 74058, dtype: int64"
      ]
     },
     "execution_count": 120,
     "metadata": {},
     "output_type": "execute_result"
    }
   ],
   "source": [
    "submit['Book-Rating'].value_counts()"
   ]
  },
  {
   "cell_type": "code",
   "execution_count": null,
   "id": "73ecf040-6e89-4ef1-9a82-7d9b7890dd30",
   "metadata": {},
   "outputs": [],
   "source": []
  },
  {
   "cell_type": "code",
   "execution_count": null,
   "id": "d65a616a-1583-4c8d-a7a7-11fe847d288a",
   "metadata": {},
   "outputs": [],
   "source": []
  },
  {
   "cell_type": "code",
   "execution_count": null,
   "id": "ba94c12f-7fd8-49c3-8c21-9eb8b300e6e1",
   "metadata": {},
   "outputs": [],
   "source": []
  }
 ],
 "metadata": {
  "kernelspec": {
   "display_name": "Python 3 (ipykernel)",
   "language": "python",
   "name": "python3"
  },
  "language_info": {
   "codemirror_mode": {
    "name": "ipython",
    "version": 3
   },
   "file_extension": ".py",
   "mimetype": "text/x-python",
   "name": "python",
   "nbconvert_exporter": "python",
   "pygments_lexer": "ipython3",
   "version": "3.9.13"
  }
 },
 "nbformat": 4,
 "nbformat_minor": 5
}
