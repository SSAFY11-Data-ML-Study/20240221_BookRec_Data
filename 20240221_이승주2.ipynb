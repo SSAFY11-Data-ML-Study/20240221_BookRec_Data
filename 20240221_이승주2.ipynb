{
  "cells": [
    {
      "cell_type": "code",
      "execution_count": null,
      "id": "8687031b",
      "metadata": {
        "id": "8687031b",
        "outputId": "8849b681-dd86-49d2-8cf0-521af4d38e14"
      },
      "outputs": [
        {
          "name": "stderr",
          "output_type": "stream",
          "text": [
            "/Users/seungju/opt/anaconda3/lib/python3.9/site-packages/pandas/core/computation/expressions.py:21: UserWarning: Pandas requires version '2.8.0' or newer of 'numexpr' (version '2.7.3' currently installed).\n",
            "  from pandas.core.computation.check import NUMEXPR_INSTALLED\n",
            "/Users/seungju/opt/anaconda3/lib/python3.9/site-packages/pandas/core/arrays/masked.py:62: UserWarning: Pandas requires version '1.3.4' or newer of 'bottleneck' (version '1.3.2' currently installed).\n",
            "  from pandas.core import (\n"
          ]
        }
      ],
      "source": [
        "import pandas as pd"
      ]
    },
    {
      "cell_type": "code",
      "execution_count": null,
      "id": "7a6db2be",
      "metadata": {
        "id": "7a6db2be"
      },
      "outputs": [],
      "source": [
        "train = pd.read_csv('train.csv')\n",
        "test = pd.read_csv('test.csv')"
      ]
    },
    {
      "cell_type": "code",
      "execution_count": null,
      "id": "ef54e052",
      "metadata": {
        "id": "ef54e052",
        "outputId": "d75f5eaf-ac4d-4ced-e7da-06682ee217fc"
      },
      "outputs": [
        {
          "data": {
            "text/plain": [
              "ID                     0\n",
              "User-ID                0\n",
              "Book-ID                0\n",
              "Book-Rating            0\n",
              "Age                    0\n",
              "Location               0\n",
              "Book-Title             0\n",
              "Book-Author            0\n",
              "Year-Of-Publication    0\n",
              "Publisher              0\n",
              "dtype: int64"
            ]
          },
          "metadata": {},
          "output_type": "display_data"
        },
        {
          "data": {
            "text/plain": [
              "ID                     0\n",
              "User-ID                0\n",
              "Book-ID                0\n",
              "Age                    0\n",
              "Location               0\n",
              "Book-Title             0\n",
              "Book-Author            1\n",
              "Year-Of-Publication    0\n",
              "Publisher              0\n",
              "dtype: int64"
            ]
          },
          "metadata": {},
          "output_type": "display_data"
        }
      ],
      "source": [
        "display(train.isnull().sum())\n",
        "display(test.isnull().sum())"
      ]
    },
    {
      "cell_type": "code",
      "execution_count": null,
      "id": "7295412b",
      "metadata": {
        "id": "7295412b",
        "outputId": "5a74a87e-f056-4001-b532-01aa5814631d"
      },
      "outputs": [
        {
          "data": {
            "text/plain": [
              "ID                     0\n",
              "User-ID                0\n",
              "Book-ID                0\n",
              "Age                    0\n",
              "Location               0\n",
              "Book-Title             0\n",
              "Book-Author            0\n",
              "Year-Of-Publication    0\n",
              "Publisher              0\n",
              "dtype: int64"
            ]
          },
          "execution_count": 4,
          "metadata": {},
          "output_type": "execute_result"
        }
      ],
      "source": [
        "test['Book-Author'].fillna('Unknown', inplace=True)\n",
        "test.isnull().sum()"
      ]
    },
    {
      "cell_type": "code",
      "execution_count": null,
      "id": "3c531abc",
      "metadata": {
        "id": "3c531abc",
        "outputId": "1c6f7c34-1485-4d90-b5c5-d96d37b20803"
      },
      "outputs": [
        {
          "name": "stdout",
          "output_type": "stream",
          "text": [
            "0\n",
            "0\n"
          ]
        }
      ],
      "source": [
        "print(train.duplicated().sum())\n",
        "print(test.duplicated().sum())"
      ]
    },
    {
      "cell_type": "code",
      "execution_count": null,
      "id": "51bda398",
      "metadata": {
        "id": "51bda398",
        "outputId": "d06aa7c8-5539-455e-f410-a07984fb3f04"
      },
      "outputs": [
        {
          "data": {
            "text/plain": [
              "ID                      object\n",
              "User-ID                 object\n",
              "Book-ID                 object\n",
              "Book-Rating              int64\n",
              "Age                    float64\n",
              "Location                object\n",
              "Book-Title              object\n",
              "Book-Author             object\n",
              "Year-Of-Publication    float64\n",
              "Publisher               object\n",
              "dtype: object"
            ]
          },
          "execution_count": 6,
          "metadata": {},
          "output_type": "execute_result"
        }
      ],
      "source": [
        "train.dtypes"
      ]
    },
    {
      "cell_type": "code",
      "execution_count": null,
      "id": "a486fb4a",
      "metadata": {
        "id": "a486fb4a",
        "outputId": "7fe377a9-8999-4faf-b114-3b74ad9df9f1"
      },
      "outputs": [
        {
          "data": {
            "text/html": [
              "<div>\n",
              "<style scoped>\n",
              "    .dataframe tbody tr th:only-of-type {\n",
              "        vertical-align: middle;\n",
              "    }\n",
              "\n",
              "    .dataframe tbody tr th {\n",
              "        vertical-align: top;\n",
              "    }\n",
              "\n",
              "    .dataframe thead th {\n",
              "        text-align: right;\n",
              "    }\n",
              "</style>\n",
              "<table border=\"1\" class=\"dataframe\">\n",
              "  <thead>\n",
              "    <tr style=\"text-align: right;\">\n",
              "      <th></th>\n",
              "      <th>Book-Rating</th>\n",
              "      <th>Age</th>\n",
              "      <th>Year-Of-Publication</th>\n",
              "    </tr>\n",
              "  </thead>\n",
              "  <tbody>\n",
              "    <tr>\n",
              "      <th>count</th>\n",
              "      <td>871393.000000</td>\n",
              "      <td>871393.000000</td>\n",
              "      <td>871393.000000</td>\n",
              "    </tr>\n",
              "    <tr>\n",
              "      <th>mean</th>\n",
              "      <td>2.820579</td>\n",
              "      <td>36.799861</td>\n",
              "      <td>1968.903339</td>\n",
              "    </tr>\n",
              "    <tr>\n",
              "      <th>std</th>\n",
              "      <td>3.846906</td>\n",
              "      <td>12.065509</td>\n",
              "      <td>228.077752</td>\n",
              "    </tr>\n",
              "    <tr>\n",
              "      <th>min</th>\n",
              "      <td>0.000000</td>\n",
              "      <td>0.000000</td>\n",
              "      <td>-1.000000</td>\n",
              "    </tr>\n",
              "    <tr>\n",
              "      <th>25%</th>\n",
              "      <td>0.000000</td>\n",
              "      <td>31.000000</td>\n",
              "      <td>1991.000000</td>\n",
              "    </tr>\n",
              "    <tr>\n",
              "      <th>50%</th>\n",
              "      <td>0.000000</td>\n",
              "      <td>35.000000</td>\n",
              "      <td>1997.000000</td>\n",
              "    </tr>\n",
              "    <tr>\n",
              "      <th>75%</th>\n",
              "      <td>7.000000</td>\n",
              "      <td>41.000000</td>\n",
              "      <td>2001.000000</td>\n",
              "    </tr>\n",
              "    <tr>\n",
              "      <th>max</th>\n",
              "      <td>10.000000</td>\n",
              "      <td>244.000000</td>\n",
              "      <td>2021.000000</td>\n",
              "    </tr>\n",
              "  </tbody>\n",
              "</table>\n",
              "</div>"
            ],
            "text/plain": [
              "         Book-Rating            Age  Year-Of-Publication\n",
              "count  871393.000000  871393.000000        871393.000000\n",
              "mean        2.820579      36.799861          1968.903339\n",
              "std         3.846906      12.065509           228.077752\n",
              "min         0.000000       0.000000            -1.000000\n",
              "25%         0.000000      31.000000          1991.000000\n",
              "50%         0.000000      35.000000          1997.000000\n",
              "75%         7.000000      41.000000          2001.000000\n",
              "max        10.000000     244.000000          2021.000000"
            ]
          },
          "execution_count": 7,
          "metadata": {},
          "output_type": "execute_result"
        }
      ],
      "source": [
        "train.describe()"
      ]
    },
    {
      "cell_type": "code",
      "execution_count": null,
      "id": "878aa6e4",
      "metadata": {
        "scrolled": true,
        "id": "878aa6e4",
        "outputId": "cf8a951d-4f39-45db-d4a5-51e0d8ffee0a"
      },
      "outputs": [
        {
          "data": {
            "text/plain": [
              "Age\n",
              "35.0     251455\n",
              "33.0      27349\n",
              "29.0      25456\n",
              "30.0      23085\n",
              "31.0      22515\n",
              "          ...  \n",
              "118.0         1\n",
              "109.0         1\n",
              "147.0         1\n",
              "123.0         1\n",
              "132.0         1\n",
              "Name: count, Length: 137, dtype: int64"
            ]
          },
          "metadata": {},
          "output_type": "display_data"
        },
        {
          "data": {
            "text/plain": [
              "Age\n",
              "35.0     45940\n",
              "33.0      5513\n",
              "29.0      5181\n",
              "36.0      4378\n",
              "32.0      4227\n",
              "         ...  \n",
              "84.0         1\n",
              "237.0        1\n",
              "95.0         1\n",
              "156.0        1\n",
              "99.0         1\n",
              "Name: count, Length: 108, dtype: int64"
            ]
          },
          "metadata": {},
          "output_type": "display_data"
        }
      ],
      "source": [
        "display(train['Age'].value_counts())\n",
        "display(test['Age'].value_counts())"
      ]
    },
    {
      "cell_type": "code",
      "execution_count": null,
      "id": "efa148d9",
      "metadata": {
        "id": "efa148d9",
        "outputId": "00b7ffe4-1fce-4860-d6a4-5ffd4588340c"
      },
      "outputs": [
        {
          "name": "stderr",
          "output_type": "stream",
          "text": [
            "/var/folders/mb/49y4plvx5bbdyyrk98dbvt0m0000gn/T/ipykernel_61573/645248797.py:2: SettingWithCopyWarning: \n",
            "A value is trying to be set on a copy of a slice from a DataFrame\n",
            "\n",
            "See the caveats in the documentation: https://pandas.pydata.org/pandas-docs/stable/user_guide/indexing.html#returning-a-view-versus-a-copy\n",
            "  df['Age'][df['Age'] >= 100] = 100\n",
            "/var/folders/mb/49y4plvx5bbdyyrk98dbvt0m0000gn/T/ipykernel_61573/645248797.py:4: SettingWithCopyWarning: \n",
            "A value is trying to be set on a copy of a slice from a DataFrame\n",
            "\n",
            "See the caveats in the documentation: https://pandas.pydata.org/pandas-docs/stable/user_guide/indexing.html#returning-a-view-versus-a-copy\n",
            "  df['Age'][(0 <= df['Age']) & (df['Age'] < 20)] = 10\n",
            "/var/folders/mb/49y4plvx5bbdyyrk98dbvt0m0000gn/T/ipykernel_61573/645248797.py:5: SettingWithCopyWarning: \n",
            "A value is trying to be set on a copy of a slice from a DataFrame\n",
            "\n",
            "See the caveats in the documentation: https://pandas.pydata.org/pandas-docs/stable/user_guide/indexing.html#returning-a-view-versus-a-copy\n",
            "  df['Age'][(20 <= df['Age']) & (df['Age'] < 25)] = 20\n",
            "/var/folders/mb/49y4plvx5bbdyyrk98dbvt0m0000gn/T/ipykernel_61573/645248797.py:6: SettingWithCopyWarning: \n",
            "A value is trying to be set on a copy of a slice from a DataFrame\n",
            "\n",
            "See the caveats in the documentation: https://pandas.pydata.org/pandas-docs/stable/user_guide/indexing.html#returning-a-view-versus-a-copy\n",
            "  df['Age'][(25 <= df['Age']) & (df['Age'] < 30)] = 25\n",
            "/var/folders/mb/49y4plvx5bbdyyrk98dbvt0m0000gn/T/ipykernel_61573/645248797.py:7: SettingWithCopyWarning: \n",
            "A value is trying to be set on a copy of a slice from a DataFrame\n",
            "\n",
            "See the caveats in the documentation: https://pandas.pydata.org/pandas-docs/stable/user_guide/indexing.html#returning-a-view-versus-a-copy\n",
            "  df['Age'][(30 <= df['Age']) & (df['Age'] < 35)] = 30\n",
            "/var/folders/mb/49y4plvx5bbdyyrk98dbvt0m0000gn/T/ipykernel_61573/645248797.py:8: SettingWithCopyWarning: \n",
            "A value is trying to be set on a copy of a slice from a DataFrame\n",
            "\n",
            "See the caveats in the documentation: https://pandas.pydata.org/pandas-docs/stable/user_guide/indexing.html#returning-a-view-versus-a-copy\n",
            "  df['Age'][(35 <= df['Age']) & (df['Age'] < 40)] = 35\n",
            "/var/folders/mb/49y4plvx5bbdyyrk98dbvt0m0000gn/T/ipykernel_61573/645248797.py:9: SettingWithCopyWarning: \n",
            "A value is trying to be set on a copy of a slice from a DataFrame\n",
            "\n",
            "See the caveats in the documentation: https://pandas.pydata.org/pandas-docs/stable/user_guide/indexing.html#returning-a-view-versus-a-copy\n",
            "  df['Age'][(40 <= df['Age']) & (df['Age'] < 45)] = 40\n",
            "/var/folders/mb/49y4plvx5bbdyyrk98dbvt0m0000gn/T/ipykernel_61573/645248797.py:10: SettingWithCopyWarning: \n",
            "A value is trying to be set on a copy of a slice from a DataFrame\n",
            "\n",
            "See the caveats in the documentation: https://pandas.pydata.org/pandas-docs/stable/user_guide/indexing.html#returning-a-view-versus-a-copy\n",
            "  df['Age'][(45 <= df['Age']) & (df['Age'] < 50)] = 45\n",
            "/var/folders/mb/49y4plvx5bbdyyrk98dbvt0m0000gn/T/ipykernel_61573/645248797.py:11: SettingWithCopyWarning: \n",
            "A value is trying to be set on a copy of a slice from a DataFrame\n",
            "\n",
            "See the caveats in the documentation: https://pandas.pydata.org/pandas-docs/stable/user_guide/indexing.html#returning-a-view-versus-a-copy\n",
            "  df['Age'][(50 <= df['Age']) & (df['Age'] < 70)] = 60\n",
            "/var/folders/mb/49y4plvx5bbdyyrk98dbvt0m0000gn/T/ipykernel_61573/645248797.py:12: SettingWithCopyWarning: \n",
            "A value is trying to be set on a copy of a slice from a DataFrame\n",
            "\n",
            "See the caveats in the documentation: https://pandas.pydata.org/pandas-docs/stable/user_guide/indexing.html#returning-a-view-versus-a-copy\n",
            "  df['Age'][(70 <= df['Age']) & (df['Age'] < 100)] = 10\n",
            "/var/folders/mb/49y4plvx5bbdyyrk98dbvt0m0000gn/T/ipykernel_61573/645248797.py:2: SettingWithCopyWarning: \n",
            "A value is trying to be set on a copy of a slice from a DataFrame\n",
            "\n",
            "See the caveats in the documentation: https://pandas.pydata.org/pandas-docs/stable/user_guide/indexing.html#returning-a-view-versus-a-copy\n",
            "  df['Age'][df['Age'] >= 100] = 100\n",
            "/var/folders/mb/49y4plvx5bbdyyrk98dbvt0m0000gn/T/ipykernel_61573/645248797.py:4: SettingWithCopyWarning: \n",
            "A value is trying to be set on a copy of a slice from a DataFrame\n",
            "\n",
            "See the caveats in the documentation: https://pandas.pydata.org/pandas-docs/stable/user_guide/indexing.html#returning-a-view-versus-a-copy\n",
            "  df['Age'][(0 <= df['Age']) & (df['Age'] < 20)] = 10\n",
            "/var/folders/mb/49y4plvx5bbdyyrk98dbvt0m0000gn/T/ipykernel_61573/645248797.py:5: SettingWithCopyWarning: \n",
            "A value is trying to be set on a copy of a slice from a DataFrame\n",
            "\n",
            "See the caveats in the documentation: https://pandas.pydata.org/pandas-docs/stable/user_guide/indexing.html#returning-a-view-versus-a-copy\n",
            "  df['Age'][(20 <= df['Age']) & (df['Age'] < 25)] = 20\n",
            "/var/folders/mb/49y4plvx5bbdyyrk98dbvt0m0000gn/T/ipykernel_61573/645248797.py:6: SettingWithCopyWarning: \n",
            "A value is trying to be set on a copy of a slice from a DataFrame\n",
            "\n",
            "See the caveats in the documentation: https://pandas.pydata.org/pandas-docs/stable/user_guide/indexing.html#returning-a-view-versus-a-copy\n",
            "  df['Age'][(25 <= df['Age']) & (df['Age'] < 30)] = 25\n",
            "/var/folders/mb/49y4plvx5bbdyyrk98dbvt0m0000gn/T/ipykernel_61573/645248797.py:7: SettingWithCopyWarning: \n",
            "A value is trying to be set on a copy of a slice from a DataFrame\n",
            "\n",
            "See the caveats in the documentation: https://pandas.pydata.org/pandas-docs/stable/user_guide/indexing.html#returning-a-view-versus-a-copy\n",
            "  df['Age'][(30 <= df['Age']) & (df['Age'] < 35)] = 30\n",
            "/var/folders/mb/49y4plvx5bbdyyrk98dbvt0m0000gn/T/ipykernel_61573/645248797.py:8: SettingWithCopyWarning: \n",
            "A value is trying to be set on a copy of a slice from a DataFrame\n",
            "\n",
            "See the caveats in the documentation: https://pandas.pydata.org/pandas-docs/stable/user_guide/indexing.html#returning-a-view-versus-a-copy\n",
            "  df['Age'][(35 <= df['Age']) & (df['Age'] < 40)] = 35\n",
            "/var/folders/mb/49y4plvx5bbdyyrk98dbvt0m0000gn/T/ipykernel_61573/645248797.py:9: SettingWithCopyWarning: \n",
            "A value is trying to be set on a copy of a slice from a DataFrame\n",
            "\n",
            "See the caveats in the documentation: https://pandas.pydata.org/pandas-docs/stable/user_guide/indexing.html#returning-a-view-versus-a-copy\n",
            "  df['Age'][(40 <= df['Age']) & (df['Age'] < 45)] = 40\n",
            "/var/folders/mb/49y4plvx5bbdyyrk98dbvt0m0000gn/T/ipykernel_61573/645248797.py:10: SettingWithCopyWarning: \n",
            "A value is trying to be set on a copy of a slice from a DataFrame\n",
            "\n",
            "See the caveats in the documentation: https://pandas.pydata.org/pandas-docs/stable/user_guide/indexing.html#returning-a-view-versus-a-copy\n",
            "  df['Age'][(45 <= df['Age']) & (df['Age'] < 50)] = 45\n",
            "/var/folders/mb/49y4plvx5bbdyyrk98dbvt0m0000gn/T/ipykernel_61573/645248797.py:11: SettingWithCopyWarning: \n",
            "A value is trying to be set on a copy of a slice from a DataFrame\n",
            "\n",
            "See the caveats in the documentation: https://pandas.pydata.org/pandas-docs/stable/user_guide/indexing.html#returning-a-view-versus-a-copy\n",
            "  df['Age'][(50 <= df['Age']) & (df['Age'] < 70)] = 60\n",
            "/var/folders/mb/49y4plvx5bbdyyrk98dbvt0m0000gn/T/ipykernel_61573/645248797.py:12: SettingWithCopyWarning: \n",
            "A value is trying to be set on a copy of a slice from a DataFrame\n",
            "\n",
            "See the caveats in the documentation: https://pandas.pydata.org/pandas-docs/stable/user_guide/indexing.html#returning-a-view-versus-a-copy\n",
            "  df['Age'][(70 <= df['Age']) & (df['Age'] < 100)] = 10\n"
          ]
        }
      ],
      "source": [
        "def age_preprocess(df):\n",
        "    df['Age'][df['Age'] >= 100] = 100\n",
        "\n",
        "    df['Age'][(0 <= df['Age']) & (df['Age'] < 20)] = 10\n",
        "    df['Age'][(20 <= df['Age']) & (df['Age'] < 25)] = 20\n",
        "    df['Age'][(25 <= df['Age']) & (df['Age'] < 30)] = 25\n",
        "    df['Age'][(30 <= df['Age']) & (df['Age'] < 35)] = 30\n",
        "    df['Age'][(35 <= df['Age']) & (df['Age'] < 40)] = 35\n",
        "    df['Age'][(40 <= df['Age']) & (df['Age'] < 45)] = 40\n",
        "    df['Age'][(45 <= df['Age']) & (df['Age'] < 50)] = 45\n",
        "    df['Age'][(50 <= df['Age']) & (df['Age'] < 70)] = 60\n",
        "    df['Age'][(70 <= df['Age']) & (df['Age'] < 100)] = 10\n",
        "\n",
        "    return df\n",
        "\n",
        "train = age_preprocess(train)\n",
        "test = age_preprocess(test)"
      ]
    },
    {
      "cell_type": "code",
      "execution_count": null,
      "id": "c260ff11",
      "metadata": {
        "id": "c260ff11",
        "outputId": "0f0855de-2b64-4907-bd31-ea97296bda2f"
      },
      "outputs": [
        {
          "data": {
            "text/plain": [
              "Age\n",
              "35     324724\n",
              "30     117372\n",
              "60     103788\n",
              "25     103471\n",
              "40      72065\n",
              "45      58682\n",
              "20      55201\n",
              "10      33405\n",
              "100      2685\n",
              "Name: count, dtype: int64"
            ]
          },
          "metadata": {},
          "output_type": "display_data"
        },
        {
          "data": {
            "text/plain": [
              "Age\n",
              "35     59274\n",
              "30     21029\n",
              "60     19679\n",
              "25     19271\n",
              "40     12225\n",
              "20     10784\n",
              "45      9964\n",
              "10      7054\n",
              "100      341\n",
              "Name: count, dtype: int64"
            ]
          },
          "metadata": {},
          "output_type": "display_data"
        }
      ],
      "source": [
        "train['Age'] = train['Age'].astype(int)\n",
        "test['Age'] = test['Age'].astype(int)\n",
        "display(train.Age.value_counts())\n",
        "display(test.Age.value_counts())"
      ]
    },
    {
      "cell_type": "code",
      "execution_count": null,
      "id": "bfa27c57",
      "metadata": {
        "id": "bfa27c57",
        "outputId": "cfa8806c-282e-48f1-ebd0-9b2597a8e9d1"
      },
      "outputs": [
        {
          "data": {
            "text/plain": [
              "Year-Of-Publication\n",
              "2002.0    77173\n",
              "2001.0    67566\n",
              "1999.0    64175\n",
              "2000.0    61749\n",
              "2003.0    60744\n",
              "          ...  \n",
              "2008.0        1\n",
              "1909.0        1\n",
              "1904.0        1\n",
              "1378.0        1\n",
              "1910.0        1\n",
              "Name: count, Length: 110, dtype: int64"
            ]
          },
          "metadata": {},
          "output_type": "display_data"
        },
        {
          "data": {
            "text/plain": [
              "Year-Of-Publication\n",
              "2002.0    14610\n",
              "2001.0    12201\n",
              "2003.0    11792\n",
              "1999.0    11008\n",
              "2000.0    10577\n",
              "          ...  \n",
              "1948.0        1\n",
              "2011.0        1\n",
              "1909.0        1\n",
              "2020.0        1\n",
              "1930.0        1\n",
              "Name: count, Length: 82, dtype: int64"
            ]
          },
          "metadata": {},
          "output_type": "display_data"
        }
      ],
      "source": [
        "display(train['Year-Of-Publication'].value_counts())\n",
        "display(test['Year-Of-Publication'].value_counts())"
      ]
    },
    {
      "cell_type": "code",
      "execution_count": null,
      "id": "25efe9ea",
      "metadata": {
        "id": "25efe9ea",
        "outputId": "3d4272e8-943c-44f3-c7ae-e9094554034e"
      },
      "outputs": [
        {
          "data": {
            "text/html": [
              "<div>\n",
              "<style scoped>\n",
              "    .dataframe tbody tr th:only-of-type {\n",
              "        vertical-align: middle;\n",
              "    }\n",
              "\n",
              "    .dataframe tbody tr th {\n",
              "        vertical-align: top;\n",
              "    }\n",
              "\n",
              "    .dataframe thead th {\n",
              "        text-align: right;\n",
              "    }\n",
              "</style>\n",
              "<table border=\"1\" class=\"dataframe\">\n",
              "  <thead>\n",
              "    <tr style=\"text-align: right;\">\n",
              "      <th></th>\n",
              "      <th>ID</th>\n",
              "      <th>User-ID</th>\n",
              "      <th>Book-ID</th>\n",
              "      <th>Book-Rating</th>\n",
              "      <th>Age</th>\n",
              "      <th>Location</th>\n",
              "      <th>Book-Title</th>\n",
              "      <th>Book-Author</th>\n",
              "      <th>Year-Of-Publication</th>\n",
              "      <th>Publisher</th>\n",
              "    </tr>\n",
              "  </thead>\n",
              "  <tbody>\n",
              "    <tr>\n",
              "      <th>184</th>\n",
              "      <td>TRAIN_000184</td>\n",
              "      <td>USER_00049</td>\n",
              "      <td>BOOK_121460</td>\n",
              "      <td>0</td>\n",
              "      <td>35</td>\n",
              "      <td>gaylord, michigan, usa</td>\n",
              "      <td>Bxc Blue Bay Mystery</td>\n",
              "      <td>Gertrude Cha Warner</td>\n",
              "      <td>-1.0</td>\n",
              "      <td>Scholastic Inc</td>\n",
              "    </tr>\n",
              "    <tr>\n",
              "      <th>186</th>\n",
              "      <td>TRAIN_000186</td>\n",
              "      <td>USER_00049</td>\n",
              "      <td>BOOK_175661</td>\n",
              "      <td>10</td>\n",
              "      <td>35</td>\n",
              "      <td>gaylord, michigan, usa</td>\n",
              "      <td>Lighthouse Mystery</td>\n",
              "      <td>Gertrude C Warner</td>\n",
              "      <td>-1.0</td>\n",
              "      <td>Scholastic Inc</td>\n",
              "    </tr>\n",
              "    <tr>\n",
              "      <th>191</th>\n",
              "      <td>TRAIN_000191</td>\n",
              "      <td>USER_00049</td>\n",
              "      <td>BOOK_230275</td>\n",
              "      <td>0</td>\n",
              "      <td>35</td>\n",
              "      <td>gaylord, michigan, usa</td>\n",
              "      <td>Mike's Mystery</td>\n",
              "      <td>Gertrude Cha Warner</td>\n",
              "      <td>-1.0</td>\n",
              "      <td>Scholastic Inc</td>\n",
              "    </tr>\n",
              "    <tr>\n",
              "      <th>231</th>\n",
              "      <td>TRAIN_000231</td>\n",
              "      <td>USER_00054</td>\n",
              "      <td>BOOK_122689</td>\n",
              "      <td>0</td>\n",
              "      <td>35</td>\n",
              "      <td>spring, texas, usa</td>\n",
              "      <td>Charming Billy</td>\n",
              "      <td>Alice Mcdermott</td>\n",
              "      <td>-1.0</td>\n",
              "      <td>Farrar, Straus Giroux</td>\n",
              "    </tr>\n",
              "    <tr>\n",
              "      <th>290</th>\n",
              "      <td>TRAIN_000290</td>\n",
              "      <td>USER_00060</td>\n",
              "      <td>BOOK_165427</td>\n",
              "      <td>0</td>\n",
              "      <td>25</td>\n",
              "      <td>los angeles, california, usa</td>\n",
              "      <td>Moon Palace</td>\n",
              "      <td>Paul Auster</td>\n",
              "      <td>-1.0</td>\n",
              "      <td>Faber Faber Inc</td>\n",
              "    </tr>\n",
              "    <tr>\n",
              "      <th>...</th>\n",
              "      <td>...</td>\n",
              "      <td>...</td>\n",
              "      <td>...</td>\n",
              "      <td>...</td>\n",
              "      <td>...</td>\n",
              "      <td>...</td>\n",
              "      <td>...</td>\n",
              "      <td>...</td>\n",
              "      <td>...</td>\n",
              "      <td>...</td>\n",
              "    </tr>\n",
              "    <tr>\n",
              "      <th>870700</th>\n",
              "      <td>TRAIN_870700</td>\n",
              "      <td>USER_92056</td>\n",
              "      <td>BOOK_093874</td>\n",
              "      <td>5</td>\n",
              "      <td>35</td>\n",
              "      <td>leucadia, california, usa</td>\n",
              "      <td>High Ground</td>\n",
              "      <td>John Mcgahern</td>\n",
              "      <td>-1.0</td>\n",
              "      <td>Faber Faber Inc</td>\n",
              "    </tr>\n",
              "    <tr>\n",
              "      <th>870751</th>\n",
              "      <td>TRAIN_870751</td>\n",
              "      <td>USER_92058</td>\n",
              "      <td>BOOK_117063</td>\n",
              "      <td>0</td>\n",
              "      <td>20</td>\n",
              "      <td>halifax, nova scotia, canada</td>\n",
              "      <td>Hotel Du Lac</td>\n",
              "      <td>Anita Brookner</td>\n",
              "      <td>-1.0</td>\n",
              "      <td>Penguin Putnam~trade</td>\n",
              "    </tr>\n",
              "    <tr>\n",
              "      <th>870776</th>\n",
              "      <td>TRAIN_870776</td>\n",
              "      <td>USER_92058</td>\n",
              "      <td>BOOK_181486</td>\n",
              "      <td>8</td>\n",
              "      <td>20</td>\n",
              "      <td>halifax, nova scotia, canada</td>\n",
              "      <td>Laurels Kitchen a Handbook for Vegetarian Co</td>\n",
              "      <td>Laurel Robertson</td>\n",
              "      <td>-1.0</td>\n",
              "      <td>Bantam Doubleday Dell</td>\n",
              "    </tr>\n",
              "    <tr>\n",
              "      <th>870895</th>\n",
              "      <td>TRAIN_870895</td>\n",
              "      <td>USER_92080</td>\n",
              "      <td>BOOK_045027</td>\n",
              "      <td>10</td>\n",
              "      <td>35</td>\n",
              "      <td>brookhaven, mississippi, usa</td>\n",
              "      <td>Best of Sisters In Crime</td>\n",
              "      <td>Marilyn Wallace</td>\n",
              "      <td>-1.0</td>\n",
              "      <td>Penguin Putnam~childrens Hc</td>\n",
              "    </tr>\n",
              "    <tr>\n",
              "      <th>871300</th>\n",
              "      <td>TRAIN_871300</td>\n",
              "      <td>USER_92093</td>\n",
              "      <td>BOOK_216824</td>\n",
              "      <td>0</td>\n",
              "      <td>35</td>\n",
              "      <td>lakewood, colorado, usa</td>\n",
              "      <td>Girlfriends</td>\n",
              "      <td>Jayne Wexler</td>\n",
              "      <td>-1.0</td>\n",
              "      <td>Running Press</td>\n",
              "    </tr>\n",
              "  </tbody>\n",
              "</table>\n",
              "<p>11515 rows × 10 columns</p>\n",
              "</div>"
            ],
            "text/plain": [
              "                  ID     User-ID      Book-ID  Book-Rating  Age  \\\n",
              "184     TRAIN_000184  USER_00049  BOOK_121460            0   35   \n",
              "186     TRAIN_000186  USER_00049  BOOK_175661           10   35   \n",
              "191     TRAIN_000191  USER_00049  BOOK_230275            0   35   \n",
              "231     TRAIN_000231  USER_00054  BOOK_122689            0   35   \n",
              "290     TRAIN_000290  USER_00060  BOOK_165427            0   25   \n",
              "...              ...         ...          ...          ...  ...   \n",
              "870700  TRAIN_870700  USER_92056  BOOK_093874            5   35   \n",
              "870751  TRAIN_870751  USER_92058  BOOK_117063            0   20   \n",
              "870776  TRAIN_870776  USER_92058  BOOK_181486            8   20   \n",
              "870895  TRAIN_870895  USER_92080  BOOK_045027           10   35   \n",
              "871300  TRAIN_871300  USER_92093  BOOK_216824            0   35   \n",
              "\n",
              "                            Location  \\\n",
              "184           gaylord, michigan, usa   \n",
              "186           gaylord, michigan, usa   \n",
              "191           gaylord, michigan, usa   \n",
              "231               spring, texas, usa   \n",
              "290     los angeles, california, usa   \n",
              "...                              ...   \n",
              "870700     leucadia, california, usa   \n",
              "870751  halifax, nova scotia, canada   \n",
              "870776  halifax, nova scotia, canada   \n",
              "870895  brookhaven, mississippi, usa   \n",
              "871300       lakewood, colorado, usa   \n",
              "\n",
              "                                          Book-Title          Book-Author  \\\n",
              "184                             Bxc Blue Bay Mystery  Gertrude Cha Warner   \n",
              "186                               Lighthouse Mystery    Gertrude C Warner   \n",
              "191                                   Mike's Mystery  Gertrude Cha Warner   \n",
              "231                                   Charming Billy      Alice Mcdermott   \n",
              "290                                      Moon Palace          Paul Auster   \n",
              "...                                              ...                  ...   \n",
              "870700                                   High Ground        John Mcgahern   \n",
              "870751                                  Hotel Du Lac       Anita Brookner   \n",
              "870776  Laurels Kitchen a Handbook for Vegetarian Co     Laurel Robertson   \n",
              "870895                      Best of Sisters In Crime      Marilyn Wallace   \n",
              "871300                                   Girlfriends         Jayne Wexler   \n",
              "\n",
              "        Year-Of-Publication                    Publisher  \n",
              "184                    -1.0               Scholastic Inc  \n",
              "186                    -1.0               Scholastic Inc  \n",
              "191                    -1.0               Scholastic Inc  \n",
              "231                    -1.0        Farrar, Straus Giroux  \n",
              "290                    -1.0              Faber Faber Inc  \n",
              "...                     ...                          ...  \n",
              "870700                 -1.0              Faber Faber Inc  \n",
              "870751                 -1.0         Penguin Putnam~trade  \n",
              "870776                 -1.0        Bantam Doubleday Dell  \n",
              "870895                 -1.0  Penguin Putnam~childrens Hc  \n",
              "871300                 -1.0                Running Press  \n",
              "\n",
              "[11515 rows x 10 columns]"
            ]
          },
          "execution_count": 13,
          "metadata": {},
          "output_type": "execute_result"
        }
      ],
      "source": [
        "train[train['Year-Of-Publication'] == -1]\n",
        "# Year-Of-Publication; '-1'로 표기된 missing values는 도서를 찾아보면서 값 대체 가능\n",
        "# 시간 부족으로 단계 생략"
      ]
    },
    {
      "cell_type": "code",
      "execution_count": null,
      "id": "356cab8f",
      "metadata": {
        "scrolled": true,
        "id": "356cab8f",
        "outputId": "0bcb1ede-1403-4b9f-c701-09467bb477c2"
      },
      "outputs": [
        {
          "name": "stderr",
          "output_type": "stream",
          "text": [
            "/var/folders/mb/49y4plvx5bbdyyrk98dbvt0m0000gn/T/ipykernel_61573/1808374585.py:3: SettingWithCopyWarning: \n",
            "A value is trying to be set on a copy of a slice from a DataFrame\n",
            "\n",
            "See the caveats in the documentation: https://pandas.pydata.org/pandas-docs/stable/user_guide/indexing.html#returning-a-view-versus-a-copy\n",
            "  df['Year-Of-Publication'][(-1 < df['Year-Of-Publication']) & (df['Year-Of-Publication'] < 1980)] = 1970\n",
            "/var/folders/mb/49y4plvx5bbdyyrk98dbvt0m0000gn/T/ipykernel_61573/1808374585.py:4: SettingWithCopyWarning: \n",
            "A value is trying to be set on a copy of a slice from a DataFrame\n",
            "\n",
            "See the caveats in the documentation: https://pandas.pydata.org/pandas-docs/stable/user_guide/indexing.html#returning-a-view-versus-a-copy\n",
            "  df['Year-Of-Publication'][(1980 <= df['Year-Of-Publication']) & (df['Year-Of-Publication'] < 1985)] = 1980\n",
            "/var/folders/mb/49y4plvx5bbdyyrk98dbvt0m0000gn/T/ipykernel_61573/1808374585.py:5: SettingWithCopyWarning: \n",
            "A value is trying to be set on a copy of a slice from a DataFrame\n",
            "\n",
            "See the caveats in the documentation: https://pandas.pydata.org/pandas-docs/stable/user_guide/indexing.html#returning-a-view-versus-a-copy\n",
            "  df['Year-Of-Publication'][(1985 <= df['Year-Of-Publication']) & (df['Year-Of-Publication'] < 1990)] = 1985\n",
            "/var/folders/mb/49y4plvx5bbdyyrk98dbvt0m0000gn/T/ipykernel_61573/1808374585.py:6: SettingWithCopyWarning: \n",
            "A value is trying to be set on a copy of a slice from a DataFrame\n",
            "\n",
            "See the caveats in the documentation: https://pandas.pydata.org/pandas-docs/stable/user_guide/indexing.html#returning-a-view-versus-a-copy\n",
            "  df['Year-Of-Publication'][(1990 <= df['Year-Of-Publication']) & (df['Year-Of-Publication'] < 1995)] = 1990\n",
            "/var/folders/mb/49y4plvx5bbdyyrk98dbvt0m0000gn/T/ipykernel_61573/1808374585.py:7: SettingWithCopyWarning: \n",
            "A value is trying to be set on a copy of a slice from a DataFrame\n",
            "\n",
            "See the caveats in the documentation: https://pandas.pydata.org/pandas-docs/stable/user_guide/indexing.html#returning-a-view-versus-a-copy\n",
            "  df['Year-Of-Publication'][(1995 <= df['Year-Of-Publication']) & (df['Year-Of-Publication'] < 2000)] = 1995\n",
            "/var/folders/mb/49y4plvx5bbdyyrk98dbvt0m0000gn/T/ipykernel_61573/1808374585.py:8: SettingWithCopyWarning: \n",
            "A value is trying to be set on a copy of a slice from a DataFrame\n",
            "\n",
            "See the caveats in the documentation: https://pandas.pydata.org/pandas-docs/stable/user_guide/indexing.html#returning-a-view-versus-a-copy\n",
            "  df['Year-Of-Publication'][(2000 <= df['Year-Of-Publication']) & (df['Year-Of-Publication'] < 2005)] = 2000\n",
            "/var/folders/mb/49y4plvx5bbdyyrk98dbvt0m0000gn/T/ipykernel_61573/1808374585.py:9: SettingWithCopyWarning: \n",
            "A value is trying to be set on a copy of a slice from a DataFrame\n",
            "\n",
            "See the caveats in the documentation: https://pandas.pydata.org/pandas-docs/stable/user_guide/indexing.html#returning-a-view-versus-a-copy\n",
            "  df['Year-Of-Publication'][(2005 <= df['Year-Of-Publication'])] = 2010\n",
            "/var/folders/mb/49y4plvx5bbdyyrk98dbvt0m0000gn/T/ipykernel_61573/1808374585.py:3: SettingWithCopyWarning: \n",
            "A value is trying to be set on a copy of a slice from a DataFrame\n",
            "\n",
            "See the caveats in the documentation: https://pandas.pydata.org/pandas-docs/stable/user_guide/indexing.html#returning-a-view-versus-a-copy\n",
            "  df['Year-Of-Publication'][(-1 < df['Year-Of-Publication']) & (df['Year-Of-Publication'] < 1980)] = 1970\n",
            "/var/folders/mb/49y4plvx5bbdyyrk98dbvt0m0000gn/T/ipykernel_61573/1808374585.py:4: SettingWithCopyWarning: \n",
            "A value is trying to be set on a copy of a slice from a DataFrame\n",
            "\n",
            "See the caveats in the documentation: https://pandas.pydata.org/pandas-docs/stable/user_guide/indexing.html#returning-a-view-versus-a-copy\n",
            "  df['Year-Of-Publication'][(1980 <= df['Year-Of-Publication']) & (df['Year-Of-Publication'] < 1985)] = 1980\n",
            "/var/folders/mb/49y4plvx5bbdyyrk98dbvt0m0000gn/T/ipykernel_61573/1808374585.py:5: SettingWithCopyWarning: \n",
            "A value is trying to be set on a copy of a slice from a DataFrame\n",
            "\n",
            "See the caveats in the documentation: https://pandas.pydata.org/pandas-docs/stable/user_guide/indexing.html#returning-a-view-versus-a-copy\n",
            "  df['Year-Of-Publication'][(1985 <= df['Year-Of-Publication']) & (df['Year-Of-Publication'] < 1990)] = 1985\n",
            "/var/folders/mb/49y4plvx5bbdyyrk98dbvt0m0000gn/T/ipykernel_61573/1808374585.py:6: SettingWithCopyWarning: \n",
            "A value is trying to be set on a copy of a slice from a DataFrame\n",
            "\n",
            "See the caveats in the documentation: https://pandas.pydata.org/pandas-docs/stable/user_guide/indexing.html#returning-a-view-versus-a-copy\n",
            "  df['Year-Of-Publication'][(1990 <= df['Year-Of-Publication']) & (df['Year-Of-Publication'] < 1995)] = 1990\n",
            "/var/folders/mb/49y4plvx5bbdyyrk98dbvt0m0000gn/T/ipykernel_61573/1808374585.py:7: SettingWithCopyWarning: \n",
            "A value is trying to be set on a copy of a slice from a DataFrame\n",
            "\n",
            "See the caveats in the documentation: https://pandas.pydata.org/pandas-docs/stable/user_guide/indexing.html#returning-a-view-versus-a-copy\n",
            "  df['Year-Of-Publication'][(1995 <= df['Year-Of-Publication']) & (df['Year-Of-Publication'] < 2000)] = 1995\n",
            "/var/folders/mb/49y4plvx5bbdyyrk98dbvt0m0000gn/T/ipykernel_61573/1808374585.py:8: SettingWithCopyWarning: \n",
            "A value is trying to be set on a copy of a slice from a DataFrame\n",
            "\n",
            "See the caveats in the documentation: https://pandas.pydata.org/pandas-docs/stable/user_guide/indexing.html#returning-a-view-versus-a-copy\n",
            "  df['Year-Of-Publication'][(2000 <= df['Year-Of-Publication']) & (df['Year-Of-Publication'] < 2005)] = 2000\n",
            "/var/folders/mb/49y4plvx5bbdyyrk98dbvt0m0000gn/T/ipykernel_61573/1808374585.py:9: SettingWithCopyWarning: \n",
            "A value is trying to be set on a copy of a slice from a DataFrame\n",
            "\n",
            "See the caveats in the documentation: https://pandas.pydata.org/pandas-docs/stable/user_guide/indexing.html#returning-a-view-versus-a-copy\n",
            "  df['Year-Of-Publication'][(2005 <= df['Year-Of-Publication'])] = 2010\n"
          ]
        }
      ],
      "source": [
        "def year_preprocess(df):\n",
        "\n",
        "    df['Year-Of-Publication'][(-1 < df['Year-Of-Publication']) & (df['Year-Of-Publication'] < 1980)] = 1970\n",
        "    df['Year-Of-Publication'][(1980 <= df['Year-Of-Publication']) & (df['Year-Of-Publication'] < 1985)] = 1980\n",
        "    df['Year-Of-Publication'][(1985 <= df['Year-Of-Publication']) & (df['Year-Of-Publication'] < 1990)] = 1985\n",
        "    df['Year-Of-Publication'][(1990 <= df['Year-Of-Publication']) & (df['Year-Of-Publication'] < 1995)] = 1990\n",
        "    df['Year-Of-Publication'][(1995 <= df['Year-Of-Publication']) & (df['Year-Of-Publication'] < 2000)] = 1995\n",
        "    df['Year-Of-Publication'][(2000 <= df['Year-Of-Publication']) & (df['Year-Of-Publication'] < 2005)] = 2000\n",
        "    df['Year-Of-Publication'][(2005 <= df['Year-Of-Publication'])] = 2010\n",
        "\n",
        "    return df\n",
        "\n",
        "train = year_preprocess(train)\n",
        "test = year_preprocess(test)"
      ]
    },
    {
      "cell_type": "code",
      "execution_count": null,
      "id": "d4f0ebf4",
      "metadata": {
        "id": "d4f0ebf4",
        "outputId": "88517c45-9a5e-4078-d7d7-751504efb654"
      },
      "outputs": [
        {
          "data": {
            "text/plain": [
              "Year-Of-Publication\n",
              " 2000    288914\n",
              " 1995    262876\n",
              " 1990    155094\n",
              " 1985     81341\n",
              " 1980     42128\n",
              " 1970     29337\n",
              "-1        11515\n",
              " 2010       188\n",
              "Name: count, dtype: int64"
            ]
          },
          "metadata": {},
          "output_type": "display_data"
        },
        {
          "data": {
            "text/plain": [
              "Year-Of-Publication\n",
              " 2000    53469\n",
              " 1995    48785\n",
              " 1990    28008\n",
              " 1985    14232\n",
              " 1980     7391\n",
              " 1970     5294\n",
              "-1        2425\n",
              " 2010       17\n",
              "Name: count, dtype: int64"
            ]
          },
          "metadata": {},
          "output_type": "display_data"
        }
      ],
      "source": [
        "train['Year-Of-Publication'] = train['Year-Of-Publication'].astype('int')\n",
        "test['Year-Of-Publication'] = test['Year-Of-Publication'].astype('int')\n",
        "display(train['Year-Of-Publication'].value_counts())\n",
        "display(test['Year-Of-Publication'].value_counts())"
      ]
    },
    {
      "cell_type": "code",
      "execution_count": null,
      "id": "644db2e0",
      "metadata": {
        "id": "644db2e0"
      },
      "outputs": [],
      "source": [
        "# 성능 비교 후 numeric variables 범주화 결정 (원래 개인적으로 잘 안 함,,)\n",
        "# 위 코드에서는 columns를 덮어썼지만, 새로운 column을 생성하고 original을 drop하기"
      ]
    },
    {
      "cell_type": "code",
      "execution_count": null,
      "id": "8e461597",
      "metadata": {
        "id": "8e461597"
      },
      "outputs": [],
      "source": [
        "train['Country'] = train['Location'].apply(lambda x: x.split(',')[-1].strip())\n",
        "test['Country'] = test['Location'].apply(lambda x: x.split(',')[-1].strip())\n",
        "train = train.drop(['Location'], axis=1)\n",
        "test = test.drop(['Location'], axis=1)"
      ]
    },
    {
      "cell_type": "code",
      "source": [
        "display(train.Country.value_counts())\n",
        "display(test.country.value_counts())\n",
        "# count가 매우 적은 경우 찾아서 원래 데이터 참고하여 값 변환 필요\n",
        "# 같은 국가가 다른 표기를 할 경우도 찾아서 값 변환 필요\n",
        "# 노가다,,,,,"
      ],
      "metadata": {
        "id": "64xepM59n7Gi"
      },
      "id": "64xepM59n7Gi",
      "execution_count": null,
      "outputs": []
    },
    {
      "cell_type": "code",
      "source": [
        "train.Country.unique()\n",
        "# 외국어 표기도 찾아서 변환 필요\n",
        "# 노가다 22,,,"
      ],
      "metadata": {
        "id": "U3rDxm1ioFLy"
      },
      "id": "U3rDxm1ioFLy",
      "execution_count": null,
      "outputs": []
    },
    {
      "cell_type": "code",
      "source": [
        "# Country missing value filling idea: ID 별 (Book) 최다 Country로 채우기?"
      ],
      "metadata": {
        "id": "UWOkL-n3oYvq"
      },
      "id": "UWOkL-n3oYvq",
      "execution_count": null,
      "outputs": []
    },
    {
      "cell_type": "code",
      "execution_count": null,
      "id": "011e3f88",
      "metadata": {
        "id": "011e3f88"
      },
      "outputs": [],
      "source": [
        "import re\n",
        "\n",
        "pattern = r'[^\\w\\s\\d]'\n",
        "cols = ['Country', 'Book-Title', 'Book-Author', 'Publisher']\n",
        "\n",
        "def object_preprocess(df):\n",
        "    for c in cols:\n",
        "        df[c] = df[c].astype(str)\n",
        "        df[c] = df[c].apply(lambda x: re.sub(pattern, '', x))\n",
        "        df[c] = df[c].apply(lambda x: x.strip())\n",
        "        df[c] = df[c].replace('\\s+', ' ', regex=True)\n",
        "        df[c] = df[c].str.replace(' ', '').str.lower()\n",
        "    return df\n",
        "\n",
        "train = object_preprocess(train)\n",
        "test = object_preprocess(test)"
      ]
    },
    {
      "cell_type": "code",
      "source": [
        "# Book-Title, Book-Author, Publisher도 같은 사람이나 다르게 표기된 부분 찾아서 변환 필요\n",
        "# missing value도 해당 row를 찾아서 다른 정보를 참고하면 fillna 가능\n",
        "# 노가다 333......"
      ],
      "metadata": {
        "id": "Ccq9Peruntb4"
      },
      "id": "Ccq9Peruntb4",
      "execution_count": null,
      "outputs": []
    },
    {
      "cell_type": "code",
      "source": [
        "# categorical columns -> Label Encoding..?\n",
        "# 가서 얘기해보자,,"
      ],
      "metadata": {
        "id": "zgfDshxioHEy"
      },
      "id": "zgfDshxioHEy",
      "execution_count": null,
      "outputs": []
    },
    {
      "cell_type": "code",
      "source": [],
      "metadata": {
        "id": "vEPEOVCsoIVK"
      },
      "id": "vEPEOVCsoIVK",
      "execution_count": 1,
      "outputs": []
    },
    {
      "cell_type": "code",
      "source": [
        "pip install scikit-surprise"
      ],
      "metadata": {
        "id": "LTzkouaBoIry"
      },
      "id": "LTzkouaBoIry",
      "execution_count": null,
      "outputs": []
    },
    {
      "cell_type": "code",
      "source": [
        "from surprise import SVD, Dataset, Reader, accuracy"
      ],
      "metadata": {
        "id": "hxxa82kgoJ9a"
      },
      "id": "hxxa82kgoJ9a",
      "execution_count": null,
      "outputs": []
    },
    {
      "cell_type": "code",
      "source": [
        "reader = Reader(rating_scale=(0, 10))\n",
        "train = Dataset.load_from_df(train[['User-ID', 'Book-ID', 'Book-Rating']], reader)\n",
        "train = train.build_full_trainset()"
      ],
      "metadata": {
        "id": "wPXXRfJtoMC6"
      },
      "id": "wPXXRfJtoMC6",
      "execution_count": null,
      "outputs": []
    },
    {
      "cell_type": "code",
      "source": [
        "model = SVD()\n",
        "model.fit(train)"
      ],
      "metadata": {
        "id": "tla5ZjQJoNv6"
      },
      "id": "tla5ZjQJoNv6",
      "execution_count": null,
      "outputs": []
    },
    {
      "cell_type": "code",
      "source": [
        "submit = pd.read_csv('sample_submission.csv')\n",
        "submit['Book-Rating'] = test.apply(lambda row: model.predict(row['User-ID'], row['Book-ID']).est, axis=1)\n",
        "submit.to_csv('./baseline_submit.csv', index=False)"
      ],
      "metadata": {
        "id": "E2m0N39doO_6"
      },
      "id": "E2m0N39doO_6",
      "execution_count": null,
      "outputs": []
    },
    {
      "cell_type": "code",
      "source": [],
      "metadata": {
        "id": "EonUoVVvoQPV"
      },
      "id": "EonUoVVvoQPV",
      "execution_count": null,
      "outputs": []
    }
  ],
  "metadata": {
    "kernelspec": {
      "display_name": "Python 3 (ipykernel)",
      "language": "python",
      "name": "python3"
    },
    "language_info": {
      "codemirror_mode": {
        "name": "ipython",
        "version": 3
      },
      "file_extension": ".py",
      "mimetype": "text/x-python",
      "name": "python",
      "nbconvert_exporter": "python",
      "pygments_lexer": "ipython3",
      "version": "3.9.7"
    },
    "colab": {
      "provenance": []
    }
  },
  "nbformat": 4,
  "nbformat_minor": 5
}