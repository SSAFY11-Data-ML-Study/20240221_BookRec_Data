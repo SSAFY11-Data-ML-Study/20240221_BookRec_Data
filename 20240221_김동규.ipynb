{
  "cells": [
    {
      "cell_type": "code",
      "execution_count": null,
      "metadata": {
        "id": "4ja3gMDh2zer"
      },
      "outputs": [],
      "source": [
        "import numpy as np\n",
        "import pandas as pd\n",
        "from matplotlib import pyplot as plt\n",
        "from google.colab import drive"
      ]
    },
    {
      "cell_type": "code",
      "source": [
        "drive.mount('/content/gdrive',force_remount = True)"
      ],
      "metadata": {
        "colab": {
          "base_uri": "https://localhost:8080/"
        },
        "id": "aTkIRISJ5Bbg",
        "outputId": "b43b2cf1-271a-4209-fc16-79617aa358e6"
      },
      "execution_count": null,
      "outputs": [
        {
          "output_type": "stream",
          "name": "stdout",
          "text": [
            "Mounted at /content/gdrive\n"
          ]
        }
      ]
    },
    {
      "cell_type": "markdown",
      "metadata": {
        "id": "3gibP-Vo2zet"
      },
      "source": [
        "### 1. 데이터 분석\n"
      ]
    },
    {
      "cell_type": "code",
      "execution_count": null,
      "metadata": {
        "colab": {
          "base_uri": "https://localhost:8080/"
        },
        "id": "g_tQG3N82zeu",
        "outputId": "7945fefa-9ebe-4c35-9b33-8aebddb92270"
      },
      "outputs": [
        {
          "output_type": "stream",
          "name": "stdout",
          "text": [
            "before cnt :  871393\n",
            "total count(age<=104) :  869534\n"
          ]
        }
      ],
      "source": [
        "train = pd.read_csv(r'./gdrive/MyDrive/data/BookRec/sample_data/train.csv')\n",
        "print(\"before cnt : \",len(train))\n",
        "train = train[train['Age']<=104]\n",
        "print(\"total count(age<=104) : \",len(train))"
      ]
    },
    {
      "cell_type": "code",
      "execution_count": null,
      "metadata": {
        "id": "NhOBnlCQ2zev",
        "outputId": "2c9fd7c6-a885-4fdf-f28d-d7042eeda833",
        "colab": {
          "base_uri": "https://localhost:8080/"
        }
      },
      "outputs": [
        {
          "output_type": "stream",
          "name": "stdout",
          "text": [
            "Index(['ID', 'User-ID', 'Book-ID', 'Book-Rating', 'Age', 'Location',\n",
            "       'Book-Title', 'Book-Author', 'Year-Of-Publication', 'Publisher'],\n",
            "      dtype='object')\n",
            "Index(['ID', 'User-ID', 'Book-ID', 'Book-Rating', 'Age', 'Book-Title',\n",
            "       'Book-Author'],\n",
            "      dtype='object')\n"
          ]
        }
      ],
      "source": [
        "print(train.columns)\n",
        "train = train[['ID','User-ID','Book-ID','Book-Rating','Age','Book-Title','Book-Author']]\n",
        "print(train.columns)"
      ]
    },
    {
      "cell_type": "code",
      "execution_count": null,
      "metadata": {
        "id": "1idxX41_2zev",
        "outputId": "b68af3e9-7d53-40aa-e4ac-395b731273e2",
        "colab": {
          "base_uri": "https://localhost:8080/"
        }
      },
      "outputs": [
        {
          "output_type": "stream",
          "name": "stdout",
          "text": [
            "<bound method Series.unique of 0         USER_00000\n",
            "1         USER_00000\n",
            "2         USER_00000\n",
            "3         USER_00000\n",
            "4         USER_00000\n",
            "             ...    \n",
            "871388    USER_92096\n",
            "871389    USER_92097\n",
            "871390    USER_92098\n",
            "871391    USER_92099\n",
            "871392    USER_92100\n",
            "Name: User-ID, Length: 869534, dtype: object>\n",
            "USER_56601    11143\n",
            "USER_54845     6456\n",
            "USER_52453     5814\n",
            "USER_73501     4290\n",
            "USER_03411     3453\n",
            "              ...  \n",
            "USER_55802        1\n",
            "USER_55803        1\n",
            "USER_55805        1\n",
            "USER_55806        1\n",
            "USER_92100        1\n",
            "Name: User-ID, Length: 83209, dtype: int64\n",
            "11143\n",
            "1\n",
            "10.449999399103463\n"
          ]
        }
      ],
      "source": [
        "print(train['User-ID'].unique)\n",
        "# print(group['ID'].count().value_counts())\n",
        "group = train['User-ID'].value_counts()\n",
        "print(group)\n",
        "print(group.max())\n",
        "print(group.min())\n",
        "print(group.mean())"
      ]
    },
    {
      "cell_type": "code",
      "execution_count": null,
      "metadata": {
        "id": "of7fMoW62zew",
        "outputId": "80d009bf-800a-4a9d-f948-78eac2ab7980",
        "colab": {
          "base_uri": "https://localhost:8080/",
          "height": 712
        }
      },
      "outputs": [
        {
          "output_type": "stream",
          "name": "stdout",
          "text": [
            "35.0    35444\n",
            "26.0     1533\n",
            "29.0     1522\n",
            "25.0     1512\n",
            "34.0     1502\n",
            "        ...  \n",
            "86.0        2\n",
            "89.0        2\n",
            "99.0        2\n",
            "97.0        1\n",
            "98.0        1\n",
            "Name: Age, Length: 99, dtype: int64\n",
            "83209\n"
          ]
        },
        {
          "output_type": "execute_result",
          "data": {
            "text/plain": [
              "<Axes: >"
            ]
          },
          "metadata": {},
          "execution_count": 37
        },
        {
          "output_type": "display_data",
          "data": {
            "text/plain": [
              "<Figure size 640x480 with 1 Axes>"
            ],
            "image/png": "[encoded data removed]"
          },
          "metadata": {}
        }
      ],
      "source": [
        "unique_people = train.drop_duplicates(['User-ID'],inplace=False)['Age']\n",
        "print(unique_people.value_counts())\n",
        "print(len(unique_people))\n",
        "unique_people.value_counts().plot(kind='bar')"
      ]
    },
    {
      "cell_type": "code",
      "execution_count": null,
      "metadata": {
        "id": "3hy9WetU2zew",
        "outputId": "9091aa7b-34dd-4640-c27d-dce676d45329",
        "colab": {
          "base_uri": "https://localhost:8080/",
          "height": 430
        }
      },
      "outputs": [
        {
          "output_type": "display_data",
          "data": {
            "text/plain": [
              "<Figure size 640x480 with 1 Axes>"
            ],
            "image/png": "[encoded data removed]"
          },
          "metadata": {}
        }
      ],
      "source": [
        "title = train['Book-Title'].value_counts()\n",
        "title_cnt = np.unique(title.values,return_counts=True )\n",
        "plt.plot(title_cnt[0], title_cnt[1])\n",
        "plt.yscale('log')"
      ]
    },
    {
      "cell_type": "code",
      "execution_count": null,
      "metadata": {
        "id": "dyKTBtIi2zew",
        "outputId": "28d2903e-d230-44b3-958d-573e7ecb59d1",
        "colab": {
          "base_uri": "https://localhost:8080/",
          "height": 650
        }
      },
      "outputs": [
        {
          "output_type": "stream",
          "name": "stdout",
          "text": [
            "Stephen King           8439\n",
            "Nora Roberts           6926\n",
            "John Grisham           5273\n",
            "James Patterson        5013\n",
            "Mary Higgins Clark     3973\n",
            "                       ... \n",
            "Matt Bloom                1\n",
            "Cassie Kendall            1\n",
            "Birney, M.D. Dibble       1\n",
            "John G. Miller            1\n",
            "Stephen Griffith          1\n",
            "Name: Book-Author, Length: 92569, dtype: int64\n"
          ]
        },
        {
          "output_type": "display_data",
          "data": {
            "text/plain": [
              "<Figure size 640x480 with 1 Axes>"
            ],
            "image/png": "[encoded data removed]"
          },
          "metadata": {}
        }
      ],
      "source": [
        "author = train['Book-Author'].value_counts()\n",
        "print(author)\n",
        "author_cnt = np.unique(author.values,return_counts=True)\n",
        "plt.plot(author_cnt[0],author_cnt[1])\n",
        "plt.yscale('log')"
      ]
    },
    {
      "cell_type": "markdown",
      "metadata": {
        "id": "_RPvuo1n2zex"
      },
      "source": [
        "#### 1-2. 데이터 분석 결과\n",
        "User-ID : 0~92100의 번호, 1권에 대한 평점이 가장 많고 최대 1565개의 평점을 남긴 사람이 있다.  \n",
        "Age : 0~140이상까지 다양함. 나이가 140이 넘어가는 이상치로 보이는 자료가 있어서 104이하의 값만 사용.\n",
        "BookTitle : 대부분 1권당 1리뷰, 최대 2502 리뷰  \n",
        "Book-Author : 대부분 1 작가당 1리뷰. 최대 8467 리뷰  \n"
      ]
    },
    {
      "cell_type": "markdown",
      "metadata": {
        "id": "uLhUhfc02zex"
      },
      "source": [
        "### 2. 데이터 접근  "
      ]
    },
    {
      "cell_type": "markdown",
      "metadata": {
        "id": "G-bHUmUD2zex"
      },
      "source": [
        "#### 가설 1.\n",
        "같은 작가를 많이 본 사람은 해당 작가에 대해서 비슷한 평점을 내릴 것\n",
        "\n",
        "#### 가설 2.\n",
        "같은 장르를 많이 본 사람은 해당 장르에 대해서 비슷한 평점을 내릴 것\n",
        "\n",
        "#### 가설 3.\n",
        "같은 책에 대해서는 비슷한 평점이 나올 것\n",
        "\n",
        "#### 가설 4.\n",
        "연령대 별로 작가/책에 대해서 비슷한 평점이 나올 것"
      ]
    },
    {
      "cell_type": "code",
      "execution_count": null,
      "metadata": {
        "id": "xjmFaXM62zex",
        "outputId": "1b1193e3-a74b-48d8-cd41-9bfb98700171",
        "colab": {
          "base_uri": "https://localhost:8080/"
        }
      },
      "outputs": [
        {
          "output_type": "stream",
          "name": "stdout",
          "text": [
            "                            mean       std\n",
            "Book-Author                               \n",
            " D. Chiel               2.500000  5.000000\n",
            "\"Abu\"                   8.000000       NaN\n",
            "\"Beshlie\"               6.000000       NaN\n",
            "\"Family Circle\"         5.000000       NaN\n",
            "\"Good Housekeeping\"     7.000000       NaN\n",
            "...                          ...       ...\n",
            "Â¢ystein LÂ²nn          7.000000       NaN\n",
            "Ã?dÃ¶n von HorvÃ¡th     5.333333  4.618802\n",
            "Ã?Â?dÃ?Â¶n von Horvath  5.000000  7.071068\n",
            "Ã?Â?pictÃ?Â¨te          4.500000  6.363961\n",
            "Ã?Â?ric Holder          0.000000  0.000000\n",
            "\n",
            "[92569 rows x 2 columns]\n",
            "mean    10.000000\n",
            "std      7.071068\n",
            "dtype: float64\n",
            "mean    0.0\n",
            "std     0.0\n",
            "dtype: float64\n",
            "mean    2.990929\n",
            "std     2.984292\n",
            "dtype: float64\n"
          ]
        }
      ],
      "source": [
        "#가설 1.\n",
        "book_author = train[['Book-ID','Book-Author']].drop_duplicates(['Book-Author','Book-ID']).value_counts()\n",
        "author_group = train.groupby('Book-Author')\n",
        "result = author_group['Book-Rating'].aggregate([np.mean,np.std])\n",
        "print(result)\n",
        "print(result.max())\n",
        "print(result.min())\n",
        "print(result.mean())"
      ]
    },
    {
      "cell_type": "markdown",
      "source": [
        "평점에 대한 표준편차는 0에서 7.0으로 약 3이 평균이다\n",
        "그러므로, 표준편차가 3 이상인 데이터에 대해서는 저자에 대한 평균 평점을 넣지 않는다."
      ],
      "metadata": {
        "id": "MlCQ72o8CYHS"
      }
    },
    {
      "cell_type": "code",
      "execution_count": null,
      "metadata": {
        "id": "-1mRS37v2zex"
      },
      "outputs": [],
      "source": [
        "#가설 2.\n",
        "#코드가 사라진 관계로 가설2,3,4는 생략"
      ]
    },
    {
      "cell_type": "code",
      "source": [
        "!pip install surprise\n",
        "from surprise import SVD, Dataset, Reader, accuracy"
      ],
      "metadata": {
        "colab": {
          "base_uri": "https://localhost:8080/"
        },
        "id": "999Ux7ypCjtC",
        "outputId": "c95df0b0-26b1-4873-b4dc-3651426d338e"
      },
      "execution_count": null,
      "outputs": [
        {
          "output_type": "stream",
          "name": "stdout",
          "text": [
            "Requirement already satisfied: surprise in /usr/local/lib/python3.10/dist-packages (0.1)\n",
            "Requirement already satisfied: scikit-surprise in /usr/local/lib/python3.10/dist-packages (from surprise) (1.1.3)\n",
            "Requirement already satisfied: joblib>=1.0.0 in /usr/local/lib/python3.10/dist-packages (from scikit-surprise->surprise) (1.3.2)\n",
            "Requirement already satisfied: numpy>=1.17.3 in /usr/local/lib/python3.10/dist-packages (from scikit-surprise->surprise) (1.25.2)\n",
            "Requirement already satisfied: scipy>=1.3.2 in /usr/local/lib/python3.10/dist-packages (from scikit-surprise->surprise) (1.11.4)\n"
          ]
        }
      ]
    },
    {
      "cell_type": "code",
      "source": [
        "authors = train['Book-Author'].unique()\n",
        "print(authors)\n",
        "print(len(authors))"
      ],
      "metadata": {
        "colab": {
          "base_uri": "https://localhost:8080/"
        },
        "id": "ulJQGY1AD9Ca",
        "outputId": "19f43e09-c40c-4640-d168-e24a158b352e"
      },
      "execution_count": null,
      "outputs": [
        {
          "output_type": "stream",
          "name": "stdout",
          "text": [
            "['Rona Jaffe' 'William Shakespeare' 'Walter Scott' ... 'Jamie Buckingham'\n",
            " 'Mary Newton Bruder' 'Stephen Griffith']\n",
            "92569\n"
          ]
        }
      ]
    },
    {
      "cell_type": "code",
      "source": [
        "book_ids = train['Book-ID'].unique()\n",
        "print(book_ids)\n",
        "print(len(book_ids))"
      ],
      "metadata": {
        "colab": {
          "base_uri": "https://localhost:8080/"
        },
        "id": "vSmMMrhZEGZj",
        "outputId": "95e1ba4d-2ba2-4b4d-daa9-f01e53eb08d2"
      },
      "execution_count": null,
      "outputs": [
        {
          "output_type": "stream",
          "name": "stdout",
          "text": [
            "['BOOK_044368' 'BOOK_081205' 'BOOK_086781' ... 'BOOK_265220' 'BOOK_266941'\n",
            " 'BOOK_130798']\n",
            "243258\n"
          ]
        }
      ]
    },
    {
      "cell_type": "code",
      "source": [
        "from tqdm import tqdm\n",
        "import os\n",
        "\n",
        "if os.path.exists('./gdrive/MyDrive/data/BookRec/sample_data/author_id_dict.pkl'):\n",
        "  with open('./gdrive/MyDrive/data/BookRec/sample_data/author_id_dict.pkl', 'rb') as f:\n",
        "    author_id_dict=pickle.load(f)\n",
        "    print(\"load exist dict\")\n",
        "else:\n",
        "  print('make new dictionary')\n",
        "  author_id_dict = {}\n",
        "  train_temp = train.drop_duplicates(['Book-Author','Book-ID'])[['Book-Author','Book-ID']]\n",
        "  for author in tqdm(authors):\n",
        "    book_ids_for_author = train_temp[train_temp['Book-Author'] == author]['Book-ID'].tolist()\n",
        "    author_id_dict[author] = book_ids_for_author\n",
        "\n",
        "  print(author_id_dict)\n"
      ],
      "metadata": {
        "colab": {
          "base_uri": "https://localhost:8080/"
        },
        "id": "lXYG93DCEN5U",
        "outputId": "a9d057cb-8ebd-4b78-dfa0-c8684f4b2c98"
      },
      "execution_count": null,
      "outputs": [
        {
          "output_type": "stream",
          "name": "stdout",
          "text": [
            "load exist dict\n"
          ]
        }
      ]
    },
    {
      "cell_type": "code",
      "source": [
        "\n",
        "import pickle\n",
        "\n",
        "with open('./gdrive/MyDrive/data/BookRec/sample_data/author_id_dict.pkl', 'wb') as f:\n",
        "  pickle.dump(author_id_dict, f)\n"
      ],
      "metadata": {
        "id": "bqgapKPcHW-p"
      },
      "execution_count": null,
      "outputs": []
    },
    {
      "cell_type": "code",
      "source": [
        "\n",
        "grouped_data = train.groupby('Book-Author')\n",
        "filtered_data = grouped_data.filter(lambda x: len(x) >= 5)\n"
      ],
      "metadata": {
        "id": "XT-mhJihuQS9"
      },
      "execution_count": null,
      "outputs": []
    },
    {
      "cell_type": "code",
      "source": [
        "train_grouped = train.groupby('Book-Author')\n",
        "train_grouped = train_grouped.filter(lambda x: len(x)>=5).groupby(\"Book-Author\")\n",
        "train_author = train_grouped['Book-Rating'].std()\n",
        "print(train_author)\n",
        "print(train_author.mean())"
      ],
      "metadata": {
        "colab": {
          "base_uri": "https://localhost:8080/"
        },
        "id": "R-s6kUpQGPax",
        "outputId": "84a24f25-7b34-4565-a866-cf9046b1a763"
      },
      "execution_count": null,
      "outputs": [
        {
          "output_type": "stream",
          "name": "stdout",
          "text": [
            "Book-Author\n",
            "\"Pickles\"              4.634241\n",
            "A A Milne              4.939636\n",
            "A Adams                0.000000\n",
            "A Bodenburg Sommer     3.401680\n",
            "A'Lelia Bundles        3.401680\n",
            "                         ...   \n",
            "dc Talk                5.128353\n",
            "jr., Richard Herman    0.000000\n",
            "stephen R Donaldson    3.923985\n",
            "tk                     3.265986\n",
            "unknown                4.423961\n",
            "Name: Book-Rating, Length: 19284, dtype: float64\n",
            "3.4598925893427874\n"
          ]
        }
      ]
    },
    {
      "cell_type": "code",
      "source": [
        "\n",
        "# 그룹화된 데이터프레임을 생성합니다.\n",
        "grouped_df = train.groupby(['User-ID','Book-Author'])\n",
        "# 각 사용자에 대해서 같은 Book-Author에 대한 평점이 3개 이상인지 확인합니다.\n",
        "user_author_counts = grouped_df.filter(lambda x:len(x)>=3)\n",
        "print(user_author_counts.groupby('User-ID')['Book-Author'].value_counts())\n",
        "\n"
      ],
      "metadata": {
        "colab": {
          "base_uri": "https://localhost:8080/"
        },
        "id": "y6S0RhITn8JV",
        "outputId": "3eed60b3-f337-4e32-844f-8dd77bcc714b"
      },
      "execution_count": null,
      "outputs": [
        {
          "output_type": "stream",
          "name": "stdout",
          "text": [
            "<pandas.core.groupby.generic.DataFrameGroupBy object at 0x7cb9c4bf8ca0>\n",
            "123\n",
            "User-ID     Book-Author             \n",
            "USER_00003  John Grisham                8\n",
            "            Arthur C. Clarke            3\n",
            "USER_00023  Cormac McCarthy             3\n",
            "USER_00049  Gertrude Chandler Warner    7\n",
            "USER_00050  V.C. Andrews                3\n",
            "                                       ..\n",
            "USER_92093  John Grisham                3\n",
            "            Julie Garwood               3\n",
            "            Junior League of Denver     3\n",
            "            Kathleen E. Woodiwiss       3\n",
            "            Luci Swindoll               3\n",
            "Name: Book-Author, Length: 32119, dtype: int64\n"
          ]
        }
      ]
    },
    {
      "cell_type": "code",
      "source": [
        "uac = user_author_counts[['User-ID','Book-Author','Book-ID']]\n",
        "print(uac)\n"
      ],
      "metadata": {
        "colab": {
          "base_uri": "https://localhost:8080/"
        },
        "id": "CgDGmmFawYbV",
        "outputId": "cacd03fb-0888-4188-a1a7-f82943e42250"
      },
      "execution_count": null,
      "outputs": [
        {
          "output_type": "stream",
          "name": "stdout",
          "text": [
            "           User-ID              Book-Author      Book-ID\n",
            "13      USER_00003         Arthur C. Clarke  BOOK_017583\n",
            "14      USER_00003             John Grisham  BOOK_047847\n",
            "21      USER_00003             John Grisham  BOOK_179881\n",
            "22      USER_00003             John Grisham  BOOK_186972\n",
            "24      USER_00003             John Grisham  BOOK_210867\n",
            "...            ...                      ...          ...\n",
            "871375  USER_92093             Bodie Thoene  BOOK_263802\n",
            "871379  USER_92093       Maud Hart Lovelace  BOOK_265837\n",
            "871380  USER_92093  Junior League of Denver  BOOK_266941\n",
            "871382  USER_92093             Bodie Thoene  BOOK_267657\n",
            "871384  USER_92093              Janette Oke  BOOK_268377\n",
            "\n",
            "[159089 rows x 3 columns]\n"
          ]
        }
      ]
    },
    {
      "cell_type": "code",
      "source": [
        "user_author_dict = {}\n",
        "temp = uac[['User-ID','Book-Author']].value_counts()\n",
        "cnt= 0\n",
        "for (userid, author),_ in temp.items():\n",
        "  cnt +=1\n",
        "  if userid not in user_author_dict:\n",
        "    user_author_dict[userid] = []\n",
        "  user_author_dict[userid].append(author)\n"
      ],
      "metadata": {
        "id": "cUU9F2u4DNJ6"
      },
      "execution_count": null,
      "outputs": []
    },
    {
      "cell_type": "code",
      "source": [
        "print(train.head(3))"
      ],
      "metadata": {
        "colab": {
          "base_uri": "https://localhost:8080/"
        },
        "id": "bteU2aAn3it0",
        "outputId": "52008c15-f2fe-4ac9-b82b-8eaa35d89bc2"
      },
      "execution_count": 153,
      "outputs": [
        {
          "output_type": "stream",
          "name": "stdout",
          "text": [
            "             ID     User-ID      Book-ID  Book-Rating   Age  \\\n",
            "0  TRAIN_000000  USER_00000  BOOK_044368            8  23.0   \n",
            "1  TRAIN_000001  USER_00000  BOOK_081205            8  23.0   \n",
            "2  TRAIN_000002  USER_00000  BOOK_086781            0  23.0   \n",
            "\n",
            "                           Book-Title          Book-Author  \n",
            "0                          Road Taken           Rona Jaffe  \n",
            "1   Macbeth (New Penguin Shakespeare)  William Shakespeare  \n",
            "2  Waverley (Penguin English Library)         Walter Scott  \n"
          ]
        }
      ]
    },
    {
      "cell_type": "code",
      "source": [
        "append_list = []\n",
        "for user_id in user_author_dict:\n",
        "  for book in author_id_dict:\n",
        "    if book not in user_author_dict[user_id]:\n",
        "      append_list.append({'User-ID':user_id,'Book-ID':book,'Book_Rating':3})\n",
        "\n",
        "print(append_list)\n"
      ],
      "metadata": {
        "id": "HqoyMYUv2W-l"
      },
      "execution_count": null,
      "outputs": []
    },
    {
      "cell_type": "code",
      "source": [
        "\n"
      ],
      "metadata": {
        "id": "VZlrU6s97pGH"
      },
      "execution_count": null,
      "outputs": []
    }
  ],
  "metadata": {
    "kernelspec": {
      "display_name": "ML_cuda2",
      "language": "python",
      "name": "python3"
    },
    "language_info": {
      "codemirror_mode": {
        "name": "ipython",
        "version": 3
      },
      "file_extension": ".py",
      "mimetype": "text/x-python",
      "name": "python",
      "nbconvert_exporter": "python",
      "pygments_lexer": "ipython3",
      "version": "3.9.18"
    },
    "colab": {
      "provenance": []
    }
  },
  "nbformat": 4,
  "nbformat_minor": 0
}